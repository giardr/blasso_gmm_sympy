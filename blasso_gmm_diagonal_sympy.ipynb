{
 "cells": [
  {
   "cell_type": "markdown",
   "id": "6575157b-1749-4c58-b5a3-7a52ceee109c",
   "metadata": {},
   "source": [
    "# Symbolic computation for the BLASSO applied to GMMs with diagonal covariances\n",
    "\n",
    "Romane Giard - 08/2025\n",
    "\n",
    "Notebook associated with the paper *Gaussian Mixture Model with unknown diagonal covariances via continuous sparse regularization*, by Romane Giard, Yohann De Castro and Clément Marteau. \n",
    "\n",
    "___\n",
    "\n",
    "**Framework**\n",
    "\n",
    "In this notebook, we provide controls using [SymPy](https://docs.sympy.org/latest/index.html) for the normalized Gaussian kernel $$K_{norm}(x,x')=(2u^2+\\tau^2)^{1/4} (2{u'}^2+\\tau^2)^{1/4}\\frac{e^{-\\frac{(t-t')^2}{2(u^2+{u'}^2+\\tau^2)}}}{\\sqrt{u^2+{u'}^2+\\tau^2}}\\,,$$ where $\\tau>0$, $x=(t,u)$ and $x'=(t',u')$ belong to $\\mathbb{R}\\times [u_{min},+\\infty)$. The parameter $t$ (resp. $u$) represents the mean of a Gaussian (resp. the standard deviation).\n",
    "\n",
    "We give bounds for the kernel and its derivatives on regions depending on the semi-distance \n",
    "$$d(x,x')^2 := \\frac{(t-t')^2}{{u'}^2+u^2+\\tau^2} + \\ln\\left(\\frac{{u'}^2+u^2+\\tau^2}{\\sqrt{2u^2+\\tau^2}\\sqrt{2{u'}^2+\\tau^2}}\\right)\\,.$$\n",
    "\n",
    "We work in a Riemannian geometry framework, and we use the Fisher-Rao metric defined by $\\mathfrak{g}_x=\\nabla_1\\nabla_2 K_{norm}(x,x)$.\n",
    "One can show that\n",
    "$$\\mathfrak{g}_x=\\begin{pmatrix}\n",
    "      \\frac{1}{2u^2+\\tau^2} & 0 \\\\\n",
    "        0 &  \\frac{2u^2}{(2u^2+\\tau^2)^2}\n",
    "\\end{pmatrix}\\,.$$\n",
    "We calculate the Riemannian derivatives of $K_{norm}$ and provide controls on them.\n",
    "\n",
    "Obtaining these bounds is a crucial step to ensure the existence of a non-degenerate dual certificate for our optimization problem.\n",
    "\n",
    "**All main sections can be run independently.** The following cell must be run first."
   ]
  },
  {
   "cell_type": "code",
   "execution_count": 1,
   "id": "31206254-f03b-40d2-96d2-d7a085291bff",
   "metadata": {},
   "outputs": [],
   "source": [
    "from sympy import *\n",
    "init_printing()\n",
    "from IPython.display import display, Math"
   ]
  },
  {
   "cell_type": "markdown",
   "id": "3cad3d9a-3bac-4b2f-9d98-1f5b35081d41",
   "metadata": {
    "jp-MarkdownHeadingCollapsed": true
   },
   "source": [
    "# I. Fisher-Rao metric and Poincaré geodesics\n",
    "**Content**\n",
    "\n",
    "* We calculate the metric $\\mathfrak{g}$ associated with $K_{norm}$.\n",
    "* We provide the associated Christoffel symbols.\n",
    "* We check the parametrizations of geodesics for the Poincaré half-plane model."
   ]
  },
  {
   "cell_type": "markdown",
   "id": "29948e95-070f-4191-9074-26f7f1ed06ef",
   "metadata": {},
   "source": [
    "## I.1. Metric and Christoffel symbols"
   ]
  },
  {
   "cell_type": "markdown",
   "id": "0600390a-53bd-492b-a8b0-c9d51aa44fb8",
   "metadata": {
    "jp-MarkdownHeadingCollapsed": true
   },
   "source": [
    "**Definition of the normalized Gaussian kernel**"
   ]
  },
  {
   "cell_type": "code",
   "execution_count": 2,
   "id": "a2f8ac97-cf61-4cde-8a34-b77b8b09940c",
   "metadata": {},
   "outputs": [
    {
     "name": "stdout",
     "output_type": "stream",
     "text": [
      "Normalized kernel:\n"
     ]
    },
    {
     "data": {
      "image/png": "[encoded data removed]",
      "text/latex": [
       "$\\displaystyle \\frac{\\sqrt[4]{\\tau^{2} + 2 u^{2}} \\sqrt[4]{\\tau^{2} + 2 u'^{2}} e^{- \\frac{\\left(t - t'\\right)^{2}}{2 \\tau^{2} + 2 u^{2} + 2 u'^{2}}}}{\\sqrt{\\tau^{2} + u^{2} + u'^{2}}}$"
      ],
      "text/plain": [
       "                                             2     \n",
       "                                    -(t - t')      \n",
       "                                ───────────────────\n",
       "   ___________    ____________     2      2       2\n",
       "4 ╱  2      2  4 ╱  2       2   2⋅τ  + 2⋅u  + 2⋅u' \n",
       "╲╱  τ  + 2⋅u  ⋅╲╱  τ  + 2⋅u'  ⋅ℯ                   \n",
       "───────────────────────────────────────────────────\n",
       "                   _______________                 \n",
       "                  ╱  2    2     2                  \n",
       "                ╲╱  τ  + u  + u'                   "
      ]
     },
     "execution_count": 2,
     "metadata": {},
     "output_type": "execute_result"
    }
   ],
   "source": [
    "# Define symbolic variables for means (t_1, t_2), standard deviations (u_1, u_2), and the smoothing parameter tau.\n",
    "t_1 , t_2, tau=symbols(\"t t' tau\", real=True)\n",
    "u_1, u_2=symbols(\"u u'\", positive=True)\n",
    "\n",
    "# Define the normalized Gaussian kernel, K_norm.\n",
    "# This kernel is a function of t_1, u_1, t_2, u_2, and tau.\n",
    "# Rational(1, 4) is 1/4\n",
    "K_norm=(2*u_1**2+tau**2)**Rational(1, 4)*(2*u_2**2+tau**2)**Rational(1, 4)*1/sqrt(u_1**2+u_2**2+tau**2)*exp(-(t_1-t_2)**2/(2*(u_1**2+u_2**2+tau**2)))\n",
    "\n",
    "# Display the symbolic expression for K_norm.\n",
    "print(\"Normalized kernel:\")\n",
    "K_norm"
   ]
  },
  {
   "cell_type": "markdown",
   "id": "3288819b-4532-44a5-bd31-8b8626a8b58e",
   "metadata": {},
   "source": [
    "**Metric**\n",
    "\n",
    "We calculate $$\\mathfrak{g}_x=\\nabla_1\\nabla_2 K_{norm}(x,x)=\\begin{pmatrix}\n",
    "      g_{tt} & g_{tu} \\\\\n",
    "       g_{tu} &  g_{uu}\n",
    "\\end{pmatrix}\\,.$$"
   ]
  },
  {
   "cell_type": "code",
   "execution_count": 3,
   "id": "01d9f213-6fea-4fb6-a2aa-18d8f656d107",
   "metadata": {},
   "outputs": [
    {
     "name": "stdout",
     "output_type": "stream",
     "text": [
      "Metric tensor :\n"
     ]
    },
    {
     "data": {
      "image/png": "[encoded data removed]",
      "text/latex": [
       "$\\displaystyle \\left[\\begin{matrix}\\frac{1}{\\tau^{2} + 2 u^{2}} & 0\\\\0 & \\frac{2 u^{2}}{\\left(\\tau^{2} + 2 u^{2}\\right)^{2}}\\end{matrix}\\right]$"
      ],
      "text/plain": [
       "⎡    1                  ⎤\n",
       "⎢─────────       0      ⎥\n",
       "⎢ 2      2              ⎥\n",
       "⎢τ  + 2⋅u               ⎥\n",
       "⎢                       ⎥\n",
       "⎢                  2    ⎥\n",
       "⎢               2⋅u     ⎥\n",
       "⎢    0      ────────────⎥\n",
       "⎢                      2⎥\n",
       "⎢           ⎛ 2      2⎞ ⎥\n",
       "⎣           ⎝τ  + 2⋅u ⎠ ⎦"
      ]
     },
     "execution_count": 3,
     "metadata": {},
     "output_type": "execute_result"
    }
   ],
   "source": [
    "gtt=diff(K_norm,t_2,t_1).subs({t_2:t_1, u_2:u_1}) #Mixed derivative with respect to t_2 and t_1\n",
    "gtu=diff(K_norm,t_2,u_1).subs({t_2:t_1, u_2:u_1}) #Mixed derivative with respect to t_2 and u_1\n",
    "guu=diff(K_norm,u_2,u_1).subs({t_2:t_1, u_2:u_1}) #Mixed derivative with respect to u_2 and u_1\n",
    "\n",
    "g=Matrix([[gtt,gtu],[gtu,guu]])\n",
    "print(\"Metric tensor :\")\n",
    "g"
   ]
  },
  {
   "cell_type": "markdown",
   "id": "072e65ce-a04b-4807-be8e-f54965327c9b",
   "metadata": {},
   "source": [
    "**Christoffel symbols**"
   ]
  },
  {
   "cell_type": "code",
   "execution_count": 4,
   "id": "a9f03383-0cd8-4beb-b933-3315485413a4",
   "metadata": {},
   "outputs": [
    {
     "name": "stdout",
     "output_type": "stream",
     "text": [
      "Christoffel symbols :\n"
     ]
    },
    {
     "data": {
      "image/png": "[encoded data removed]",
      "text/latex": [
       "$\\displaystyle \\left[\\begin{matrix}\\left[\\begin{matrix}0 & - \\frac{2 \\mathbf{u}}{\\tau^{2} + 2 \\mathbf{u}^{2}}\\\\- \\frac{2 \\mathbf{u}}{\\tau^{2} + 2 \\mathbf{u}^{2}} & 0\\end{matrix}\\right] & \\left[\\begin{matrix}\\frac{1}{\\mathbf{u}} & 0\\\\0 & \\frac{\\tau^{2} - 2 \\mathbf{u}^{2}}{\\left(\\tau^{2} + 2 \\mathbf{u}^{2}\\right) \\mathbf{u}}\\end{matrix}\\right]\\end{matrix}\\right]$"
      ],
      "text/plain": [
       "⎡⎡             -2⋅u   ⎤  ⎡1               ⎤⎤\n",
       "⎢⎢    0      ─────────⎥  ⎢─        0      ⎥⎥\n",
       "⎢⎢            2      2⎥  ⎢u               ⎥⎥\n",
       "⎢⎢           τ  + 2⋅u ⎥  ⎢                ⎥⎥\n",
       "⎢⎢                    ⎥  ⎢      2      2  ⎥⎥\n",
       "⎢⎢  -2⋅u              ⎥  ⎢     τ  - 2⋅u   ⎥⎥\n",
       "⎢⎢─────────      0    ⎥  ⎢0  ─────────────⎥⎥\n",
       "⎢⎢ 2      2           ⎥  ⎢   ⎛ 2      2⎞  ⎥⎥\n",
       "⎣⎣τ  + 2⋅u            ⎦  ⎣   ⎝τ  + 2⋅u ⎠⋅u⎦⎦"
      ]
     },
     "execution_count": 4,
     "metadata": {},
     "output_type": "execute_result"
    }
   ],
   "source": [
    "from sympy.diffgeom import Manifold, Patch, CoordSystem, metric_to_Christoffel_2nd, TensorProduct,twoform_to_matrix\n",
    "TP = TensorProduct\n",
    "\n",
    "# definition of our manifold\n",
    "R2_tu = Manifold('m', 2) # 2-dimensional manifold\n",
    "p = Patch('p', R2_tu)\n",
    "cs = CoordSystem('cs', p, [t_1, u_1])\n",
    "R2_tu.t, R2_tu.u = cs.coord_functions()\n",
    "R2_tu.e_t, R2_tu.e_u = cs.base_vectors()\n",
    "R2_tu.dt, R2_tu.du = cs.base_oneforms()\n",
    "\n",
    "# metric to twoform\n",
    "g_twoform=g[0,0].subs({t_1:R2_tu.t, u_1:R2_tu.u})*TP(R2_tu.dt, R2_tu.dt) + g[1,1].subs({t_1:R2_tu.t, u_1:R2_tu.u})*TP(R2_tu.du, R2_tu.du)\n",
    "\n",
    "# christoffel symbols\n",
    "christoffel_symbols=simplify(metric_to_Christoffel_2nd(g_twoform))\n",
    "print(\"Christoffel symbols :\")\n",
    "christoffel_symbols"
   ]
  },
  {
   "cell_type": "markdown",
   "id": "a80251b2-855c-4e70-9a5a-c30e2bfb1a46",
   "metadata": {},
   "source": [
    "## I.2. Geodesics for the Poincaré half-plane model\n",
    "\n",
    "The Poincaré half-plane is $\\{x=(t,u) \\in \\mathbb{R}\\times \\mathbb{R}_+^*\\}$, on which we consider the metric defined by $\\mathfrak{h}_x = \\begin{pmatrix}\n",
    "    \\frac{1}{u^2}& 0 \\\\\n",
    "    0 & \\frac{1}{u^2}\n",
    "\\end{pmatrix}$ for all $x=(t,u) \\in\\mathbb{R}\\times \\mathbb{R}_+^*$.\n",
    "\n",
    "We give the parametrization by arc-length of the geodesics for this model, and we write $\\tilde h=(\\tilde h_t,\\tilde h_u)$ for such geodesics."
   ]
  },
  {
   "cell_type": "markdown",
   "id": "a56b88d6-7a97-41a4-ab17-292a6552f8b1",
   "metadata": {},
   "source": [
    "**Metric**"
   ]
  },
  {
   "cell_type": "code",
   "execution_count": 5,
   "id": "e35c39d5-4cd1-45ea-92a3-ba065c64eae6",
   "metadata": {},
   "outputs": [
    {
     "name": "stdout",
     "output_type": "stream",
     "text": [
      "Poincare metric :\n"
     ]
    },
    {
     "data": {
      "image/png": "[encoded data removed]",
      "text/latex": [
       "$\\displaystyle \\left[\\begin{matrix}\\frac{1}{u^{2}} & 0\\\\0 & \\frac{1}{u^{2}}\\end{matrix}\\right]$"
      ],
      "text/plain": [
       "⎡1     ⎤\n",
       "⎢──  0 ⎥\n",
       "⎢ 2    ⎥\n",
       "⎢u     ⎥\n",
       "⎢      ⎥\n",
       "⎢    1 ⎥\n",
       "⎢0   ──⎥\n",
       "⎢     2⎥\n",
       "⎣    u ⎦"
      ]
     },
     "execution_count": 5,
     "metadata": {},
     "output_type": "execute_result"
    }
   ],
   "source": [
    "metric_h=Matrix([[1/(u_1**2),0],[0,1/(u_1**2)]])\n",
    "print(\"Poincare metric :\")\n",
    "metric_h"
   ]
  },
  {
   "cell_type": "markdown",
   "id": "98505ddf-27f4-46c1-9f82-62eafb98a2d8",
   "metadata": {},
   "source": [
    "**Christoffel symbols**"
   ]
  },
  {
   "cell_type": "code",
   "execution_count": 6,
   "id": "9f418078-dec4-4033-8fba-caaea87c4362",
   "metadata": {},
   "outputs": [
    {
     "name": "stdout",
     "output_type": "stream",
     "text": [
      "Christoffel symbols for Poincaré metric:\n"
     ]
    },
    {
     "data": {
      "image/png": "[encoded data removed]",
      "text/latex": [
       "$\\displaystyle \\left[\\begin{matrix}\\left[\\begin{matrix}0 & - \\frac{1}{\\mathbf{u}}\\\\- \\frac{1}{\\mathbf{u}} & 0\\end{matrix}\\right] & \\left[\\begin{matrix}\\frac{1}{\\mathbf{u}} & 0\\\\0 & - \\frac{1}{\\mathbf{u}}\\end{matrix}\\right]\\end{matrix}\\right]$"
      ],
      "text/plain": [
       "⎡⎡     -1 ⎤  ⎡1     ⎤⎤\n",
       "⎢⎢ 0   ───⎥  ⎢─   0 ⎥⎥\n",
       "⎢⎢      u ⎥  ⎢u     ⎥⎥\n",
       "⎢⎢        ⎥  ⎢      ⎥⎥\n",
       "⎢⎢-1      ⎥  ⎢   -1 ⎥⎥\n",
       "⎢⎢───   0 ⎥  ⎢0  ───⎥⎥\n",
       "⎣⎣ u      ⎦  ⎣    u ⎦⎦"
      ]
     },
     "execution_count": 6,
     "metadata": {},
     "output_type": "execute_result"
    }
   ],
   "source": [
    "# definition of the Poincaré half-plane manifold\n",
    "# This is a 2-dimensional manifold with coordinates t and u.\n",
    "R2_tu = Manifold('m', 2)\n",
    "p = Patch('p', R2_tu)\n",
    "cs = CoordSystem('cs', p, [t_1, u_1])\n",
    "R2_tu.t, R2_tu.u = cs.coord_functions()\n",
    "R2_tu.e_t, R2_tu.e_u = cs.base_vectors()\n",
    "R2_tu.dt, R2_tu.du = cs.base_oneforms()\n",
    "\n",
    "# metric to twoform \n",
    "h_twoform=metric_h[0,0].subs({t_1:R2_tu.t, u_1:R2_tu.u})*TP(R2_tu.dt, R2_tu.dt) + metric_h[1,1].subs({t_1:R2_tu.t, u_1:R2_tu.u})*TP(R2_tu.du, R2_tu.du)\n",
    "\n",
    "# christoffel symbols\n",
    "christoffel_symbols_h=simplify(metric_to_Christoffel_2nd(h_twoform))\n",
    "print(\"Christoffel symbols for Poincaré metric:\")\n",
    "christoffel_symbols_h"
   ]
  },
  {
   "cell_type": "markdown",
   "id": "348549a5-c2e3-49f4-afc0-4228619d9ca6",
   "metadata": {},
   "source": [
    "**Geodesic equations**\n",
    "\n",
    "We first establish the 3 geodesic equations `eq_geod#`. The first one corresponds to the condition \n",
    "$$\n",
    "(\\dot{\\tilde h}_t, \\dot{ \\tilde h}_u)^T \\mathfrak{h}_{\\tilde h} (\\dot{\\tilde h}_t, \\dot{ \\tilde h}_u)=1.\n",
    "$$\n",
    "We want $\\tilde h$ to verify `eq_geod1`=`eq_geod2`=`eq_geod3`= 0."
   ]
  },
  {
   "cell_type": "code",
   "execution_count": 7,
   "id": "08325ff0-12a0-4490-b5f1-519bfaf886a2",
   "metadata": {},
   "outputs": [
    {
     "name": "stdout",
     "output_type": "stream",
     "text": [
      "Geodesic equation Poincaré 1/3:\n"
     ]
    },
    {
     "data": {
      "image/png": "[encoded data removed]",
      "text/latex": [
       "$\\displaystyle -1 + \\frac{\\dot{\\tilde{h}}_{t}^{2}}{\\tilde{h}_{u}^{2}} + \\frac{\\dot{\\tilde{h}}_{u}^{2}}{\\tilde{h}_{u}^{2}}$"
      ],
      "text/plain": [
       "       2     2\n",
       "     h̃̇ₜ    h̃̇ᵤ \n",
       "-1 + ─── + ───\n",
       "       2     2\n",
       "     h̃ᵤ    h̃ᵤ "
      ]
     },
     "execution_count": 7,
     "metadata": {},
     "output_type": "execute_result"
    }
   ],
   "source": [
    "y=symbols('y',real=True)\n",
    "htilde_u, htilde_t, htildedot_u, htildedot_t, htildeddot_u, htildeddot_t = symbols('htilde_u htilde_t htildedot_u htildedot_t htildeddot_u, htildeddot_t',real=True)\n",
    "htilde_grad=Matrix([htildedot_t,htildedot_u])\n",
    "eq_geod1=(htilde_grad.T*metric_h.subs({t_1: htilde_t, u_1:htilde_u})).dot(htilde_grad.T)-1\n",
    "print(\"Geodesic equation Poincaré 1/3:\")\n",
    "eq_geod1"
   ]
  },
  {
   "cell_type": "code",
   "execution_count": 8,
   "id": "4d1ec189-eea3-4144-a78e-2031a7f8bdb7",
   "metadata": {},
   "outputs": [
    {
     "name": "stdout",
     "output_type": "stream",
     "text": [
      "Geodesic equation Poincaré 2/3:\n"
     ]
    },
    {
     "data": {
      "image/png": "[encoded data removed]",
      "text/latex": [
       "$\\displaystyle \\ddot{\\tilde{h}}_{t} - \\frac{2 \\dot{\\tilde{h}}_{t} \\dot{\\tilde{h}}_{u}}{\\tilde{h}_{u}}$"
      ],
      "text/plain": [
       "     2⋅h̃̇ₜ⋅h̃̇ᵤ\n",
       "h̃̈ₜ - ───────\n",
       "       h̃ᵤ   "
      ]
     },
     "execution_count": 8,
     "metadata": {},
     "output_type": "execute_result"
    }
   ],
   "source": [
    "christoffel_symbols_h_t=christoffel_symbols_h[0].subs({R2_tu.t:htilde_t,R2_tu.u:htilde_u}).tomatrix()\n",
    "eq_geod2=htildeddot_t+(htilde_grad.T*christoffel_symbols_h_t).dot(htilde_grad)\n",
    "print(\"Geodesic equation Poincaré 2/3:\")\n",
    "eq_geod2"
   ]
  },
  {
   "cell_type": "code",
   "execution_count": 9,
   "id": "2ead4997-986a-453b-86c5-b291f90ee9ce",
   "metadata": {},
   "outputs": [
    {
     "name": "stdout",
     "output_type": "stream",
     "text": [
      "Geodesic equation Poincaré 3/3:\n"
     ]
    },
    {
     "data": {
      "image/png": "[encoded data removed]",
      "text/latex": [
       "$\\displaystyle \\ddot{\\tilde{h}}_{u} + \\frac{\\dot{\\tilde{h}}_{t}^{2}}{\\tilde{h}_{u}} - \\frac{\\dot{\\tilde{h}}_{u}^{2}}{\\tilde{h}_{u}}$"
      ],
      "text/plain": [
       "       2     2\n",
       "     h̃̇ₜ    h̃̇ᵤ \n",
       "h̃̈ᵤ + ─── - ───\n",
       "     h̃ᵤ    h̃ᵤ "
      ]
     },
     "execution_count": 9,
     "metadata": {},
     "output_type": "execute_result"
    }
   ],
   "source": [
    "christoffel_symbols_h_u=christoffel_symbols_h[1].subs({R2_tu.t:htilde_t,R2_tu.u:htilde_u}).tomatrix()\n",
    "eq_geod3=htildeddot_u+(htilde_grad.T*christoffel_symbols_h_u).dot(htilde_grad)\n",
    "print(\"Geodesic equation Poincaré 3/3:\")\n",
    "eq_geod3"
   ]
  },
  {
   "cell_type": "markdown",
   "id": "f2485468-989f-4c63-8440-c7fcaf492fcf",
   "metadata": {},
   "source": [
    "**Checking that our parametrizations are solutions** \n",
    "\n",
    "We check that the functions \n",
    "\n",
    "$$\\tilde h_1: y\\in [0,l] \\mapsto \\left(\\frac{\\tanh(C_2+y)}{C_1}+C_3, \\frac{1}{\\cosh(C_2+y) |C_1|}\\right)\\,,$$\n",
    "\n",
    "$$\\tilde h_2: y\\in [0,l] \\mapsto (C_3, |C_1| e^{y}) \\quad \\text{and} \\quad \\tilde h_3: y\\in [0,l] \\mapsto  (C_3, |C_1| e^{-y})$$ \n",
    "\n",
    "are parametrizations by arc-length of Poincaré geodesics, where $C_1 \\in \\mathbb{R}^*$, $C_2,C_3\\in \\mathbb{R}$, $l \\in \\mathbb{R}_+$."
   ]
  },
  {
   "cell_type": "code",
   "execution_count": 10,
   "id": "586453e8-2a86-4785-8713-33c1e696c5a0",
   "metadata": {},
   "outputs": [
    {
     "data": {
      "text/latex": [
       "$\\displaystyle \\tilde h_1: y\\mapsto \\left(\\frac{\\tanh(C_2+y)}{C_1}+C_3, \\frac{1}{\\cosh(C_2+y) |C_1|}\\right)$"
      ],
      "text/plain": [
       "<IPython.core.display.Math object>"
      ]
     },
     "metadata": {},
     "output_type": "display_data"
    },
    {
     "data": {
      "image/png": "[encoded data removed]",
      "text/latex": [
       "$\\displaystyle \\left[ C_{3} + \\frac{\\tanh{\\left(C_{2} + y \\right)}}{C_{1}}, \\  \\frac{1}{\\cosh{\\left(C_{2} + y \\right)} \\left|{C_{1}}\\right|}\\right]$"
      ],
      "text/plain": [
       "⎡     tanh(C₂ + y)          1        ⎤\n",
       "⎢C₃ + ────────────, ─────────────────⎥\n",
       "⎣          C₁       cosh(C₂ + y)⋅│C₁│⎦"
      ]
     },
     "execution_count": 10,
     "metadata": {},
     "output_type": "execute_result"
    }
   ],
   "source": [
    "C_1,C_2,C_3=symbols('C_1 C_2 C_3',real=True)\n",
    "sol_htilde_t_1=tanh(C_2+y)/C_1+C_3\n",
    "sol_htilde_u_1=1/(cosh(C_2+y)*abs(C_1))\n",
    "display(Math(r\"\\tilde h_1: y\\mapsto \\left(\\frac{\\tanh(C_2+y)}{C_1}+C_3, \\frac{1}{\\cosh(C_2+y) |C_1|}\\right)\"))\n",
    "[sol_htilde_t_1 , sol_htilde_u_1]"
   ]
  },
  {
   "cell_type": "code",
   "execution_count": 11,
   "id": "9a5bbf12-64b8-414c-972b-1169eae95c1d",
   "metadata": {},
   "outputs": [
    {
     "data": {
      "text/latex": [
       "$\\displaystyle \\tilde h_2: y\\mapsto \\left(C_3, |C_1| e^y\\right)$"
      ],
      "text/plain": [
       "<IPython.core.display.Math object>"
      ]
     },
     "metadata": {},
     "output_type": "display_data"
    },
    {
     "data": {
      "image/png": "[encoded data removed]",
      "text/latex": [
       "$\\displaystyle \\left[ C_{3}, \\  e^{y} \\left|{C_{1}}\\right|\\right]$"
      ],
      "text/plain": [
       "⎡     y     ⎤\n",
       "⎣C₃, ℯ ⋅│C₁│⎦"
      ]
     },
     "execution_count": 11,
     "metadata": {},
     "output_type": "execute_result"
    }
   ],
   "source": [
    "sol_htilde_t_2=C_3\n",
    "sol_htilde_u_2=abs(C_1)*exp(y)\n",
    "display(Math(r\"\\tilde h_2: y\\mapsto \\left(C_3, |C_1| e^y\\right)\"))\n",
    "[sol_htilde_t_2 , sol_htilde_u_2]"
   ]
  },
  {
   "cell_type": "code",
   "execution_count": 12,
   "id": "8dd6d9f5-fddf-43fb-9c07-fee99d566503",
   "metadata": {},
   "outputs": [
    {
     "data": {
      "text/latex": [
       "$\\displaystyle \\tilde h_3: y\\mapsto \\left(C_3, |C_1| e^{-y}\\right)$"
      ],
      "text/plain": [
       "<IPython.core.display.Math object>"
      ]
     },
     "metadata": {},
     "output_type": "display_data"
    },
    {
     "data": {
      "image/png": "[encoded data removed]",
      "text/latex": [
       "$\\displaystyle \\left[ C_{3}, \\  e^{- y} \\left|{C_{1}}\\right|\\right]$"
      ],
      "text/plain": [
       "⎡     -y     ⎤\n",
       "⎣C₃, ℯ  ⋅│C₁│⎦"
      ]
     },
     "execution_count": 12,
     "metadata": {},
     "output_type": "execute_result"
    }
   ],
   "source": [
    "sol_htilde_t_3=C_3\n",
    "sol_htilde_u_3=abs(C_1)*exp(-y)\n",
    "display(Math(r\"\\tilde h_3: y\\mapsto \\left(C_3, |C_1| e^{-y}\\right)\"))\n",
    "[sol_htilde_t_3 , sol_htilde_u_3]"
   ]
  },
  {
   "cell_type": "code",
   "execution_count": 13,
   "id": "945367c1-8d38-4cf1-bd12-217b5a9ca354",
   "metadata": {},
   "outputs": [],
   "source": [
    "# We provide SymPy with the necessary simplifications for hyperbolic functions, such as 1-tanh^2=1/(cosh^2)\n",
    "def check_solution(sol_t,sol_u):\n",
    "    substitutions={htilde_t:sol_t, htilde_u:sol_u, htildedot_t:sol_t.diff(y), htildedot_u:sol_u.diff(y), htildeddot_t:sol_t.diff(y,y), htildeddot_u:sol_u.diff(y,y)}\n",
    "    check_eq_geod1=simplify(eq_geod1.subs(substitutions).replace(1-tanh(C_2+y)**2,1/(cosh(C_2+y)**2)))\n",
    "    check_eq_geod2=simplify(eq_geod2.subs(substitutions).replace(tanh(C_2+y)**2-1,-1/(cosh(C_2+y)**2)).replace(tanh(C_2+y),sinh(C_2+y)/cosh(C_2+y)))\n",
    "    check_eq_geod3=simplify(simplify(eq_geod3.subs(substitutions)).replace(tanh(C_2+y)**2-1,-1/(cosh(C_2+y)**2)))\n",
    "    return [check_eq_geod1,check_eq_geod2,check_eq_geod3]==[0,0,0]"
   ]
  },
  {
   "cell_type": "markdown",
   "id": "62ce67ee-c151-4dc1-ace1-ba77f839cd8a",
   "metadata": {},
   "source": [
    "True means that the solution satisfies the three geodesic equations."
   ]
  },
  {
   "cell_type": "code",
   "execution_count": 14,
   "id": "3cabb935-c499-4ef5-bee9-fcc6db844309",
   "metadata": {},
   "outputs": [
    {
     "data": {
      "text/plain": [
       "True"
      ]
     },
     "execution_count": 14,
     "metadata": {},
     "output_type": "execute_result"
    }
   ],
   "source": [
    "check_solution(sol_htilde_t_1 , sol_htilde_u_1)"
   ]
  },
  {
   "cell_type": "code",
   "execution_count": 15,
   "id": "df04e3b0-8552-4da4-8fd3-9cb57e5c2a74",
   "metadata": {},
   "outputs": [
    {
     "data": {
      "text/plain": [
       "True"
      ]
     },
     "execution_count": 15,
     "metadata": {},
     "output_type": "execute_result"
    }
   ],
   "source": [
    "check_solution(sol_htilde_t_2 , sol_htilde_u_2)"
   ]
  },
  {
   "cell_type": "code",
   "execution_count": 16,
   "id": "5de9a6e4-a0b9-468d-84d8-dc8634c84d16",
   "metadata": {},
   "outputs": [
    {
     "data": {
      "text/plain": [
       "True"
      ]
     },
     "execution_count": 16,
     "metadata": {},
     "output_type": "execute_result"
    }
   ],
   "source": [
    "check_solution(sol_htilde_t_3 , sol_htilde_u_3)"
   ]
  },
  {
   "cell_type": "markdown",
   "id": "5aec33f0-6f31-47fc-b111-78327c3cace6",
   "metadata": {
    "jp-MarkdownHeadingCollapsed": true
   },
   "source": [
    "# II. Growth of the semi-distance on the geodesic paths\n",
    "Recall that our semi-distance is defined by $$d(x,x')^2 =\\frac{(t-t')^2}{{u'}^2+u^2+\\tau^2} + \\ln\\left(\\frac{{u'}^2+u^2+\\tau^2}{\\sqrt{2u^2+\\tau^2}\\sqrt{2{u'}^2+\\tau^2}}\\right)\\,.$$\n",
    "Let $\\tilde \\gamma: [0,l] \\rightarrow \\mathbb{R}\\times \\mathbb{R}^+$ be a geodesic parametrized by arc-length between $x_0=(t_0,u_0)$ and $x=(t,u)$ for the Fisher-Rao metric $$\\mathfrak{g}_x=\\begin{pmatrix}\n",
    "      \\frac{1}{2u^2+\\tau^2} & 0 \\\\\n",
    "        0 &  \\frac{2u^2}{(2u^2+\\tau^2)^2}\n",
    "\\end{pmatrix} \\,.$$\n",
    "We provided the expression of $\\tilde{\\gamma}$, depending on constants $c_1\\in\\mathbb{R}^*$, $c_2, c_3 \\in \\mathbb{R}$: we have $\\tilde{\\gamma}(y)$ of the form $$(\\tilde{\\gamma}_t(y),\\tilde{\\gamma}_u(y))=\\left( c_{3} + \\frac{\\sqrt{2} \\tanh{\\left(\\frac{c_{2}}{2} + \\sqrt{2} y \\right)}}{2 c_{1}}, \\  \\sqrt{- \\frac{\\tau^{2}}{2} + \\frac{1 - \\tanh^{2}{\\left(\\frac{c_{2}}{2} + \\sqrt{2} y \\right)}}{2 c_{1}^{2}}}\\right)$$ (this expression is denoted as `(sol_gamma_t_1,sol_gamma_u_1)` )\n",
    "or of the form $$(\\tilde{\\gamma}_t(y),\\tilde{\\gamma}_u(y))=\\left( c_{3} , \\  \\sqrt{- \\frac{\\tau^{2}}{2} +\\frac{c_{1}^2}{2} e^{\\pm \\sqrt{8} y} }\\right)$$ (denoted as `(sol_gamma_t_2,sol_gamma_u_2)` with the plus sign, `(sol_gamma_t_3,sol_gamma_u_3)` with the minus sign). \n",
    "\n",
    "**Content**\n",
    "* We determine $c_1$ and $c_3$ such that $\\tilde{\\gamma}(0)=x_0$.  \n",
    "* We calculate $h(y)=d(x_0,\\tilde{\\gamma}(y))^2$.\n",
    "* We calculate $h'(y)$."
   ]
  },
  {
   "cell_type": "code",
   "execution_count": 17,
   "id": "21f8a573-2616-4b62-97be-a7755cc5c33b",
   "metadata": {},
   "outputs": [],
   "source": [
    "#Parameters (t_1, u_1) and (t_2, u_2) stand for the coordinates of the points\n",
    "t_1 , t_2, tau=symbols(\"t t' tau\", real=True)\n",
    "u_1, u_2=symbols(\"u u'\", positive=True)"
   ]
  },
  {
   "cell_type": "markdown",
   "id": "4776c527-efd8-4983-9b89-af5b65993f7b",
   "metadata": {},
   "source": [
    "## II.1. Semi circles"
   ]
  },
  {
   "cell_type": "markdown",
   "id": "20f9d226-1bf4-4a58-9428-7feba8a7ecd7",
   "metadata": {},
   "source": [
    "### Calculating $h(y)=d(x_0,\\tilde{\\gamma}(y))$ for $\\tilde{\\gamma}$ a geodesic with starting point $x_0$"
   ]
  },
  {
   "cell_type": "markdown",
   "id": "3d779705-d69e-442b-aab3-2883c4d9c44b",
   "metadata": {},
   "source": [
    "**Geodesics with starting point $x_0$**"
   ]
  },
  {
   "cell_type": "code",
   "execution_count": 18,
   "id": "b8acbb22-580a-4439-9f51-b079a48da2ca",
   "metadata": {},
   "outputs": [
    {
     "name": "stdout",
     "output_type": "stream",
     "text": [
      "A solution of the geodesic equations for the Fisher-Rao metric is given by semi-circles:\n"
     ]
    },
    {
     "data": {
      "image/png": "[encoded data removed]",
      "text/latex": [
       "$\\displaystyle \\left[ c_{3} + \\frac{\\sqrt{2} \\tanh{\\left(\\frac{c_{2}}{2} + \\sqrt{2} y \\right)}}{2 c_{1}}, \\  \\sqrt{- \\frac{\\tau^{2}}{2} + \\frac{1}{2 c_{1}^{2} \\cosh^{2}{\\left(\\frac{c_{2}}{2} + \\sqrt{2} y \\right)}}}\\right]$"
      ],
      "text/plain": [
       "⎡            ⎛c₂       ⎞         _______________________________⎤\n",
       "⎢     √2⋅tanh⎜── + √2⋅y⎟        ╱    2                          ⎥\n",
       "⎢            ⎝2        ⎠       ╱    τ              1            ⎥\n",
       "⎢c₃ + ──────────────────,     ╱   - ── + ────────────────────── ⎥\n",
       "⎢            2⋅c₁            ╱      2        2     2⎛c₂       ⎞ ⎥\n",
       "⎢                           ╱            2⋅c₁ ⋅cosh ⎜── + √2⋅y⎟ ⎥\n",
       "⎣                         ╲╱                        ⎝2        ⎠ ⎦"
      ]
     },
     "execution_count": 18,
     "metadata": {},
     "output_type": "execute_result"
    }
   ],
   "source": [
    "t_0=symbols('t_0')\n",
    "u_0=symbols('u_0', positive=True)\n",
    "c_1,c_2,c_3,y=symbols('c_1 c_2 c_3 y', real=True)\n",
    "def sol_gamma_t_1(y):\n",
    "    return tanh(c_2/2+sqrt(2)*y)/(sqrt(2)*c_1)+c_3\n",
    "def sol_gamma_u_1(y):\n",
    "    return sqrt(1/(2*cosh(c_2/2+sqrt(2)*y)**2*c_1**2)-tau**2/2)\n",
    "print(\"A solution of the geodesic equations for the Fisher-Rao metric is given by semi-circles:\")\n",
    "[sol_gamma_t_1(y) , sol_gamma_u_1(y)]"
   ]
  },
  {
   "cell_type": "code",
   "execution_count": 19,
   "id": "daa83dab-02d0-4cb4-ba17-9b5770b53eb1",
   "metadata": {},
   "outputs": [
    {
     "name": "stdout",
     "output_type": "stream",
     "text": [
      "The constant c_3 is determined by the initial condition t(0)=t_0:\n"
     ]
    },
    {
     "data": {
      "image/png": "[encoded data removed]",
      "text/latex": [
       "$\\displaystyle \\left[ t_{0} - \\frac{\\sqrt{2} \\tanh{\\left(\\frac{c_{2}}{2} \\right)}}{2 c_{1}}\\right]$"
      ],
      "text/plain": [
       "⎡            ⎛c₂⎞⎤\n",
       "⎢     √2⋅tanh⎜──⎟⎥\n",
       "⎢            ⎝2 ⎠⎥\n",
       "⎢t₀ - ───────────⎥\n",
       "⎣        2⋅c₁    ⎦"
      ]
     },
     "execution_count": 19,
     "metadata": {},
     "output_type": "execute_result"
    }
   ],
   "source": [
    "sol_c_3=solve(sol_gamma_t_1(0)-t_0, c_3)\n",
    "print(\"The constant c_3 is determined by the initial condition t(0)=t_0:\")\n",
    "sol_c_3"
   ]
  },
  {
   "cell_type": "code",
   "execution_count": 20,
   "id": "23190c5f-9344-475a-99f0-f52cc71e989e",
   "metadata": {},
   "outputs": [
    {
     "name": "stdout",
     "output_type": "stream",
     "text": [
      "The constant c_1 is determined by the initial condition u(0)=u_0:\n"
     ]
    },
    {
     "data": {
      "image/png": "[encoded data removed]",
      "text/latex": [
       "$\\displaystyle \\left[ - \\frac{1}{\\sqrt{\\tau^{2} + 2 u_{0}^{2}} \\cosh{\\left(\\frac{c_{2}}{2} \\right)}}, \\  \\frac{1}{\\sqrt{\\tau^{2} + 2 u_{0}^{2}} \\cosh{\\left(\\frac{c_{2}}{2} \\right)}}\\right]$"
      ],
      "text/plain": [
       "⎡          -1                         1            ⎤\n",
       "⎢────────────────────────, ────────────────────────⎥\n",
       "⎢   ____________              ____________         ⎥\n",
       "⎢  ╱  2       2      ⎛c₂⎞    ╱  2       2      ⎛c₂⎞⎥\n",
       "⎢╲╱  τ  + 2⋅u₀  ⋅cosh⎜──⎟  ╲╱  τ  + 2⋅u₀  ⋅cosh⎜──⎟⎥\n",
       "⎣                    ⎝2 ⎠                      ⎝2 ⎠⎦"
      ]
     },
     "execution_count": 20,
     "metadata": {},
     "output_type": "execute_result"
    }
   ],
   "source": [
    "sol_c_1=solve(sol_gamma_u_1(0)-u_0, c_1)\n",
    "print(\"The constant c_1 is determined by the initial condition u(0)=u_0:\")\n",
    "sol_c_1"
   ]
  },
  {
   "cell_type": "code",
   "execution_count": 21,
   "id": "b0c046be-3457-4bf8-a37d-b3808c5a4f41",
   "metadata": {},
   "outputs": [
    {
     "name": "stdout",
     "output_type": "stream",
     "text": [
      "The geodesic in the Fisher-Rao metric is given by:\n"
     ]
    },
    {
     "data": {
      "image/png": "[encoded data removed]",
      "text/latex": [
       "$\\displaystyle \\left[ t_{0} + \\frac{\\sqrt{2} \\sqrt{\\tau^{2} + 2 u_{0}^{2}} \\cosh{\\left(\\frac{c_{2}}{2} \\right)} \\tanh{\\left(\\frac{c_{2}}{2} \\right)}}{2} - \\frac{\\sqrt{2} \\sqrt{\\tau^{2} + 2 u_{0}^{2}} \\cosh{\\left(\\frac{c_{2}}{2} \\right)} \\tanh{\\left(\\frac{c_{2}}{2} + \\sqrt{2} y \\right)}}{2}, \\  \\sqrt{- \\frac{\\tau^{2}}{2} + \\frac{\\left(\\tau^{2} + 2 u_{0}^{2}\\right) \\cosh^{2}{\\left(\\frac{c_{2}}{2} \\right)}}{2 \\cosh^{2}{\\left(\\frac{c_{2}}{2} + \\sqrt{2} y \\right)}}}\\right]$"
      ],
      "text/plain": [
       "⎡           ____________                           ____________            ↪\n",
       "⎢          ╱  2       2      ⎛c₂⎞     ⎛c₂⎞        ╱  2       2      ⎛c₂⎞   ↪\n",
       "⎢     √2⋅╲╱  τ  + 2⋅u₀  ⋅cosh⎜──⎟⋅tanh⎜──⎟   √2⋅╲╱  τ  + 2⋅u₀  ⋅cosh⎜──⎟⋅t ↪\n",
       "⎢                            ⎝2 ⎠     ⎝2 ⎠                          ⎝2 ⎠   ↪\n",
       "⎢t₀ + ──────────────────────────────────── - ───────────────────────────── ↪\n",
       "⎢                      2                                          2        ↪\n",
       "⎢                                                                          ↪\n",
       "⎣                                                                          ↪\n",
       "\n",
       "↪                         _______________________________⎤\n",
       "↪    ⎛c₂       ⎞         ╱        ⎛ 2       2⎞     2⎛c₂⎞ ⎥\n",
       "↪ anh⎜── + √2⋅y⎟        ╱     2   ⎝τ  + 2⋅u₀ ⎠⋅cosh ⎜──⎟ ⎥\n",
       "↪    ⎝2        ⎠       ╱     τ                      ⎝2 ⎠ ⎥\n",
       "↪ ──────────────,     ╱    - ── + ────────────────────── ⎥\n",
       "↪                    ╱       2            2⎛c₂       ⎞   ⎥\n",
       "↪                   ╱               2⋅cosh ⎜── + √2⋅y⎟   ⎥\n",
       "↪                 ╲╱                       ⎝2        ⎠   ⎦"
      ]
     },
     "metadata": {},
     "output_type": "display_data"
    },
    {
     "name": "stdout",
     "output_type": "stream",
     "text": [
      "and\n"
     ]
    },
    {
     "data": {
      "image/png": "[encoded data removed]",
      "text/latex": [
       "$\\displaystyle \\left[ t_{0} - \\frac{\\sqrt{2} \\sqrt{\\tau^{2} + 2 u_{0}^{2}} \\cosh{\\left(\\frac{c_{2}}{2} \\right)} \\tanh{\\left(\\frac{c_{2}}{2} \\right)}}{2} + \\frac{\\sqrt{2} \\sqrt{\\tau^{2} + 2 u_{0}^{2}} \\cosh{\\left(\\frac{c_{2}}{2} \\right)} \\tanh{\\left(\\frac{c_{2}}{2} + \\sqrt{2} y \\right)}}{2}, \\  \\sqrt{- \\frac{\\tau^{2}}{2} + \\frac{\\left(\\tau^{2} + 2 u_{0}^{2}\\right) \\cosh^{2}{\\left(\\frac{c_{2}}{2} \\right)}}{2 \\cosh^{2}{\\left(\\frac{c_{2}}{2} + \\sqrt{2} y \\right)}}}\\right]$"
      ],
      "text/plain": [
       "⎡           ____________                           ____________            ↪\n",
       "⎢          ╱  2       2      ⎛c₂⎞     ⎛c₂⎞        ╱  2       2      ⎛c₂⎞   ↪\n",
       "⎢     √2⋅╲╱  τ  + 2⋅u₀  ⋅cosh⎜──⎟⋅tanh⎜──⎟   √2⋅╲╱  τ  + 2⋅u₀  ⋅cosh⎜──⎟⋅t ↪\n",
       "⎢                            ⎝2 ⎠     ⎝2 ⎠                          ⎝2 ⎠   ↪\n",
       "⎢t₀ - ──────────────────────────────────── + ───────────────────────────── ↪\n",
       "⎢                      2                                          2        ↪\n",
       "⎢                                                                          ↪\n",
       "⎣                                                                          ↪\n",
       "\n",
       "↪                         _______________________________⎤\n",
       "↪    ⎛c₂       ⎞         ╱        ⎛ 2       2⎞     2⎛c₂⎞ ⎥\n",
       "↪ anh⎜── + √2⋅y⎟        ╱     2   ⎝τ  + 2⋅u₀ ⎠⋅cosh ⎜──⎟ ⎥\n",
       "↪    ⎝2        ⎠       ╱     τ                      ⎝2 ⎠ ⎥\n",
       "↪ ──────────────,     ╱    - ── + ────────────────────── ⎥\n",
       "↪                    ╱       2            2⎛c₂       ⎞   ⎥\n",
       "↪                   ╱               2⋅cosh ⎜── + √2⋅y⎟   ⎥\n",
       "↪                 ╲╱                       ⎝2        ⎠   ⎦"
      ]
     },
     "metadata": {},
     "output_type": "display_data"
    }
   ],
   "source": [
    "# c_1 can take 2 values, +- sol_c_1. It sign appears in the expression of gamma_tilde_t (with c_1 and c_3).\n",
    "# The expression of sol_gamma_u only contains c_1**2, so the sign does not influence it.\n",
    "# We will see that the sign of c_1 has actually no influence on d(x_0,gamma_tilde(y))**2.\n",
    "gamma_tilde_t_1=sol_gamma_t_1(y).subs({c_3:sol_c_3[0]}).subs({c_1:sol_c_1[0]})\n",
    "gamma_tilde_t_2=sol_gamma_t_1(y).subs({c_3:sol_c_3[0]}).subs({c_1:sol_c_1[1]})\n",
    "gamma_tilde_u=sol_gamma_u_1(y).subs({c_1:sol_c_1[0]})\n",
    "print(\"The geodesic in the Fisher-Rao metric is given by:\")\n",
    "sol1 = [gamma_tilde_t_1, gamma_tilde_u]\n",
    "display(sol1)\n",
    "print(\"and\")\n",
    "sol2 = [gamma_tilde_t_2, gamma_tilde_u]\n",
    "display(sol2)\n"
   ]
  },
  {
   "cell_type": "markdown",
   "id": "dcb2c263-76f7-434e-9a4b-7db77c61a00a",
   "metadata": {},
   "source": [
    "**Expression for $h(y)=d(x_0,\\tilde{\\gamma}(y))^2$**"
   ]
  },
  {
   "cell_type": "markdown",
   "id": "3a7da725-1453-4414-b948-65d528657019",
   "metadata": {},
   "source": [
    "`semi_dist_2` is $d(x,x')^2$."
   ]
  },
  {
   "cell_type": "code",
   "execution_count": 22,
   "id": "96c87ce6-5885-4239-9055-7023d072b98c",
   "metadata": {},
   "outputs": [
    {
     "name": "stdout",
     "output_type": "stream",
     "text": [
      "h(y) is given by:\n"
     ]
    },
    {
     "data": {
      "image/png": "[encoded data removed]",
      "text/latex": [
       "$\\displaystyle \\frac{\\left(t - t'\\right)^{2}}{\\tau^{2} + u^{2} + u'^{2}} + \\log{\\left(\\frac{\\tau^{2} + u^{2} + u'^{2}}{\\sqrt{\\tau^{2} + 2 u^{2}} \\sqrt{\\tau^{2} + 2 u'^{2}}} \\right)}$"
      ],
      "text/plain": [
       "          2        ⎛         2    2     2         ⎞\n",
       "  (t - t')         ⎜        τ  + u  + u'          ⎟\n",
       "───────────── + log⎜──────────────────────────────⎟\n",
       " 2    2     2      ⎜   ___________    ____________⎟\n",
       "τ  + u  + u'       ⎜  ╱  2      2    ╱  2       2 ⎟\n",
       "                   ⎝╲╱  τ  + 2⋅u  ⋅╲╱  τ  + 2⋅u'  ⎠"
      ]
     },
     "execution_count": 22,
     "metadata": {},
     "output_type": "execute_result"
    }
   ],
   "source": [
    "semi_dist_2=(t_1-t_2)**2/(u_1**2+u_2**2+tau**2)+ln((u_1**2+u_2**2+tau**2)/(sqrt(2*u_1**2+tau**2)*sqrt(2*u_2**2+tau**2)))\n",
    "print(\"h(y) is given by:\")\n",
    "semi_dist_2"
   ]
  },
  {
   "cell_type": "markdown",
   "id": "604736d1-6ec8-40bf-9c40-1ec2b7e61ee0",
   "metadata": {},
   "source": [
    "We compute the 2 possible expressions for $d(x_0,\\tilde{\\gamma}(y))^2$ depending on the sign of $c_1$. They are actually equal."
   ]
  },
  {
   "cell_type": "code",
   "execution_count": 23,
   "id": "e6f84e66-c09e-4c7d-b44d-1305bfba67c7",
   "metadata": {},
   "outputs": [
    {
     "name": "stdout",
     "output_type": "stream",
     "text": [
      "Semi-distance from (t_0, u_0) to (gamma_tilde_t_1(y), gamma_tilde_u(y)):\n"
     ]
    },
    {
     "data": {
      "image/png": "[encoded data removed]",
      "text/latex": [
       "$\\displaystyle \\frac{\\left(- \\frac{\\sqrt{2} \\sqrt{\\tau^{2} + 2 u_{0}^{2}} \\cosh{\\left(\\frac{c_{2}}{2} \\right)} \\tanh{\\left(\\frac{c_{2}}{2} \\right)}}{2} + \\frac{\\sqrt{2} \\sqrt{\\tau^{2} + 2 u_{0}^{2}} \\cosh{\\left(\\frac{c_{2}}{2} \\right)} \\tanh{\\left(\\frac{c_{2}}{2} + \\sqrt{2} y \\right)}}{2}\\right)^{2}}{\\frac{\\tau^{2}}{2} + u_{0}^{2} + \\frac{\\left(\\tau^{2} + 2 u_{0}^{2}\\right) \\cosh^{2}{\\left(\\frac{c_{2}}{2} \\right)}}{2 \\cosh^{2}{\\left(\\frac{c_{2}}{2} + \\sqrt{2} y \\right)}}} + \\log{\\left(\\frac{\\left(\\frac{\\tau^{2}}{2} + u_{0}^{2} + \\frac{\\left(\\tau^{2} + 2 u_{0}^{2}\\right) \\cosh^{2}{\\left(\\frac{c_{2}}{2} \\right)}}{2 \\cosh^{2}{\\left(\\frac{c_{2}}{2} + \\sqrt{2} y \\right)}}\\right) \\cosh{\\left(\\frac{c_{2}}{2} + \\sqrt{2} y \\right)}}{\\left(\\tau^{2} + 2 u_{0}^{2}\\right) \\cosh{\\left(\\frac{c_{2}}{2} \\right)}} \\right)}$"
      ],
      "text/plain": [
       "                                                                           ↪\n",
       "⎛        ____________                           ____________               ↪\n",
       "⎜       ╱  2       2      ⎛c₂⎞     ⎛c₂⎞        ╱  2       2      ⎛c₂⎞      ↪\n",
       "⎜  √2⋅╲╱  τ  + 2⋅u₀  ⋅cosh⎜──⎟⋅tanh⎜──⎟   √2⋅╲╱  τ  + 2⋅u₀  ⋅cosh⎜──⎟⋅tanh ↪\n",
       "⎜                         ⎝2 ⎠     ⎝2 ⎠                          ⎝2 ⎠      ↪\n",
       "⎜- ──────────────────────────────────── + ──────────────────────────────── ↪\n",
       "⎝                   2                                          2           ↪\n",
       "────────────────────────────────────────────────────────────────────────── ↪\n",
       "                                      ⎛ 2       2⎞     2⎛c₂⎞               ↪\n",
       "                            2         ⎝τ  + 2⋅u₀ ⎠⋅cosh ⎜──⎟               ↪\n",
       "                           τ      2                     ⎝2 ⎠               ↪\n",
       "                           ── + u₀  + ──────────────────────               ↪\n",
       "                           2                  2⎛c₂       ⎞                 ↪\n",
       "                                        2⋅cosh ⎜── + √2⋅y⎟                 ↪\n",
       "                                               ⎝2        ⎠                 ↪\n",
       "\n",
       "↪             2      ⎛⎛           ⎛ 2       2⎞     2⎛c₂⎞⎞                ⎞\n",
       "↪            ⎞       ⎜⎜ 2         ⎝τ  + 2⋅u₀ ⎠⋅cosh ⎜──⎟⎟                ⎟\n",
       "↪ ⎛c₂       ⎞⎟       ⎜⎜τ      2                     ⎝2 ⎠⎟     ⎛c₂       ⎞⎟\n",
       "↪ ⎜── + √2⋅y⎟⎟       ⎜⎜── + u₀  + ──────────────────────⎟⋅cosh⎜── + √2⋅y⎟⎟\n",
       "↪ ⎝2        ⎠⎟       ⎜⎜2                  2⎛c₂       ⎞  ⎟     ⎝2        ⎠⎟\n",
       "↪ ───────────⎟       ⎜⎜             2⋅cosh ⎜── + √2⋅y⎟  ⎟                ⎟\n",
       "↪            ⎠       ⎜⎝                    ⎝2        ⎠  ⎠                ⎟\n",
       "↪ ───────────── + log⎜───────────────────────────────────────────────────⎟\n",
       "↪                    ⎜               ⎛ 2       2⎞     ⎛c₂⎞               ⎟\n",
       "↪                    ⎜               ⎝τ  + 2⋅u₀ ⎠⋅cosh⎜──⎟               ⎟\n",
       "↪                    ⎝                                ⎝2 ⎠               ⎠\n",
       "↪                                                                         \n",
       "↪                                                                         \n",
       "↪                                                                         \n",
       "↪                                                                         "
      ]
     },
     "metadata": {},
     "output_type": "display_data"
    },
    {
     "name": "stdout",
     "output_type": "stream",
     "text": [
      "Semi-distance from (t_0, u_0) to (gamma_tilde_t_2(y), gamma_tilde_u(y)):\n"
     ]
    },
    {
     "data": {
      "image/png": "[encoded data removed]",
      "text/latex": [
       "$\\displaystyle \\frac{\\left(\\frac{\\sqrt{2} \\sqrt{\\tau^{2} + 2 u_{0}^{2}} \\cosh{\\left(\\frac{c_{2}}{2} \\right)} \\tanh{\\left(\\frac{c_{2}}{2} \\right)}}{2} - \\frac{\\sqrt{2} \\sqrt{\\tau^{2} + 2 u_{0}^{2}} \\cosh{\\left(\\frac{c_{2}}{2} \\right)} \\tanh{\\left(\\frac{c_{2}}{2} + \\sqrt{2} y \\right)}}{2}\\right)^{2}}{\\frac{\\tau^{2}}{2} + u_{0}^{2} + \\frac{\\left(\\tau^{2} + 2 u_{0}^{2}\\right) \\cosh^{2}{\\left(\\frac{c_{2}}{2} \\right)}}{2 \\cosh^{2}{\\left(\\frac{c_{2}}{2} + \\sqrt{2} y \\right)}}} + \\log{\\left(\\frac{\\left(\\frac{\\tau^{2}}{2} + u_{0}^{2} + \\frac{\\left(\\tau^{2} + 2 u_{0}^{2}\\right) \\cosh^{2}{\\left(\\frac{c_{2}}{2} \\right)}}{2 \\cosh^{2}{\\left(\\frac{c_{2}}{2} + \\sqrt{2} y \\right)}}\\right) \\cosh{\\left(\\frac{c_{2}}{2} + \\sqrt{2} y \\right)}}{\\left(\\tau^{2} + 2 u_{0}^{2}\\right) \\cosh{\\left(\\frac{c_{2}}{2} \\right)}} \\right)}$"
      ],
      "text/plain": [
       "                                                                           ↪\n",
       "⎛      ____________                           ____________                 ↪\n",
       "⎜     ╱  2       2      ⎛c₂⎞     ⎛c₂⎞        ╱  2       2      ⎛c₂⎞     ⎛c ↪\n",
       "⎜√2⋅╲╱  τ  + 2⋅u₀  ⋅cosh⎜──⎟⋅tanh⎜──⎟   √2⋅╲╱  τ  + 2⋅u₀  ⋅cosh⎜──⎟⋅tanh⎜─ ↪\n",
       "⎜                       ⎝2 ⎠     ⎝2 ⎠                          ⎝2 ⎠     ⎝2 ↪\n",
       "⎜──────────────────────────────────── - ────────────────────────────────── ↪\n",
       "⎝                 2                                          2             ↪\n",
       "────────────────────────────────────────────────────────────────────────── ↪\n",
       "                                     ⎛ 2       2⎞     2⎛c₂⎞                ↪\n",
       "                           2         ⎝τ  + 2⋅u₀ ⎠⋅cosh ⎜──⎟                ↪\n",
       "                          τ      2                     ⎝2 ⎠                ↪\n",
       "                          ── + u₀  + ──────────────────────                ↪\n",
       "                          2                  2⎛c₂       ⎞                  ↪\n",
       "                                       2⋅cosh ⎜── + √2⋅y⎟                  ↪\n",
       "                                              ⎝2        ⎠                  ↪\n",
       "\n",
       "↪           2      ⎛⎛           ⎛ 2       2⎞     2⎛c₂⎞⎞                ⎞\n",
       "↪          ⎞       ⎜⎜ 2         ⎝τ  + 2⋅u₀ ⎠⋅cosh ⎜──⎟⎟                ⎟\n",
       "↪ ₂       ⎞⎟       ⎜⎜τ      2                     ⎝2 ⎠⎟     ⎛c₂       ⎞⎟\n",
       "↪ ─ + √2⋅y⎟⎟       ⎜⎜── + u₀  + ──────────────────────⎟⋅cosh⎜── + √2⋅y⎟⎟\n",
       "↪         ⎠⎟       ⎜⎜2                  2⎛c₂       ⎞  ⎟     ⎝2        ⎠⎟\n",
       "↪ ─────────⎟       ⎜⎜             2⋅cosh ⎜── + √2⋅y⎟  ⎟                ⎟\n",
       "↪          ⎠       ⎜⎝                    ⎝2        ⎠  ⎠                ⎟\n",
       "↪ ─────────── + log⎜───────────────────────────────────────────────────⎟\n",
       "↪                  ⎜               ⎛ 2       2⎞     ⎛c₂⎞               ⎟\n",
       "↪                  ⎜               ⎝τ  + 2⋅u₀ ⎠⋅cosh⎜──⎟               ⎟\n",
       "↪                  ⎝                                ⎝2 ⎠               ⎠\n",
       "↪                                                                       \n",
       "↪                                                                       \n",
       "↪                                                                       \n",
       "↪                                                                       "
      ]
     },
     "metadata": {},
     "output_type": "display_data"
    },
    {
     "name": "stdout",
     "output_type": "stream",
     "text": [
      "Test if h(y) is independent of the sign of c_1:\n",
      "True\n"
     ]
    }
   ],
   "source": [
    "expr1 = (semi_dist_2.subs({t_1: t_0, u_1:u_0, t_2: gamma_tilde_t_1, u_2: gamma_tilde_u}))\n",
    "expr2 = (semi_dist_2.subs({t_1: t_0, u_1:u_0, t_2: gamma_tilde_t_2, u_2: gamma_tilde_u}))\n",
    "print(\"Semi-distance from (t_0, u_0) to (gamma_tilde_t_1(y), gamma_tilde_u(y)):\")\n",
    "display(expr1)\n",
    "print(\"Semi-distance from (t_0, u_0) to (gamma_tilde_t_2(y), gamma_tilde_u(y)):\")\n",
    "display(expr2)\n",
    "\n",
    "# We check that h(y) does not depend on the sign of c_1\n",
    "print(\"Test if h(y) is independent of the sign of c_1:\")\n",
    "result = simplify(semi_dist_2.subs({t_1: t_0, u_1:u_0, t_2: gamma_tilde_t_1, u_2: gamma_tilde_u})-semi_dist_2.subs({t_1: t_0, u_1:u_0, t_2: gamma_tilde_t_2, u_2: gamma_tilde_u}))\n",
    "print(result==0)"
   ]
  },
  {
   "cell_type": "markdown",
   "id": "a6f148fc-ca80-4f78-9378-006dbb7aa4f3",
   "metadata": {},
   "source": [
    "We use the expression of the semi-distance from $(t_0,u_0)$ to $\\tilde \\gamma_1(y)$ (denoted by $h(y)$).\n",
    "\n",
    "We can show that \n",
    "\n",
    "$$\n",
    "h(y)=\\ln{\\left(\\frac{\\cosh^{2}{\\left(\\frac{c_{2}}{2} \\right)} + \\cosh^{2}{\\left(\\frac{c_{2}}{2} + \\sqrt{2} y \\right)}}{2 \\cosh{\\left(\\frac{c_{2}}{2} \\right)} \\cosh{\\left(\\frac{c_{2}}{2} + \\sqrt{2} y \\right)}} \\right)} + \\frac{\\sinh^{2}{\\left(\\sqrt{2} y \\right)}}{\\cosh^{2}{\\left(\\frac{c_{2}}{2} \\right)} + \\cosh^{2}{\\left(\\frac{c_{2}}{2} + \\sqrt{2} y \\right)}}\\,.\n",
    "$$\n",
    "\n",
    "In fact, the expression in the above cell can be further simplified (by hand).\n",
    "\n",
    "We have for the denominator\n",
    "\n",
    "$$ \n",
    "2 \\left(\\frac{\\cosh\\left(c_{2} \\right)}{2} + \\frac{\\cosh\\left(c_{2} + 2 \\sqrt{2} y \\right)}{2} + 1\\right)= 2\\left(\\cosh^2\\left(\\frac{c_{2}}{2} \\right) + \\cosh^2\\left(\\frac{c_{2}}{2} +\\sqrt{2} y \\right)  \\right) \\,,$$ \n",
    "\n",
    "along with, for the first term in the sum of the numerator,\n",
    "$$\n",
    "\\begin{aligned}\n",
    "2 \\left(\\tanh\\left(\\frac{c_{2}}{2} \\right) - \\tanh\\left(\\frac{c_{2}}{2} + \\sqrt{2} y \\right)\\right)^{2} \\cosh^2\\left(\\frac{c_{2}}{2} \\right) \\cosh^2\\left(\\frac{c_{2}}{2} + \\sqrt{2} y \\right) &= 2 \\left(\\sinh{\\left(\\frac{c_{2}}{2} \\right)}\\cosh{\\left(\\frac{c_{2}}{2} + \\sqrt{2} y \\right)} - \\sinh{\\left(\\frac{c_{2}}{2} + \\sqrt{2} y \\right)}\\cosh{\\left(\\frac{c_{2}}{2} \\right)}\\right)^{2} \\,, \\\\\n",
    "&=2 \\sinh^2\\left( \\sqrt{2} y \\right) \n",
    "\\end{aligned}\n",
    "$$\n",
    "and, for the denominator inside the log,\n",
    "$$\n",
    "\\cosh(\\sqrt{2}y)+ \\cosh(c_2+\\sqrt{2}y)=2\\cosh\\left(\\frac{c_{2}}{2} \\right) \\cosh\\left(\\frac{c_{2}}{2} + \\sqrt{2} y \\right)\\,.\n",
    "$$"
   ]
  },
  {
   "cell_type": "code",
   "execution_count": 24,
   "id": "3e0b086c",
   "metadata": {},
   "outputs": [
    {
     "name": "stdout",
     "output_type": "stream",
     "text": [
      "Is the identity satisfied? True\n"
     ]
    }
   ],
   "source": [
    "# Check the first identity\n",
    "lhs = 2 * (cosh(c_2)/2 + cosh(c_2 + 2*sqrt(2)*y)/2 + 1)\n",
    "rhs = 2 * (cosh(c_2/2)**2 + cosh(c_2/2 + sqrt(2)*y)**2)\n",
    "print(\"Is the identity satisfied?\", simplify(lhs - rhs) == 0)"
   ]
  },
  {
   "cell_type": "code",
   "execution_count": 25,
   "id": "2e765dea",
   "metadata": {},
   "outputs": [
    {
     "name": "stdout",
     "output_type": "stream",
     "text": [
      "Is the identity satisfied? True\n"
     ]
    }
   ],
   "source": [
    "# Check the second identity\n",
    "lhs2 = (2 * (tanh(c_2/2) - tanh(c_2/2 + sqrt(2)*y))**2 * cosh(c_2/2)**2 * cosh(c_2/2 + sqrt(2)*y)**2)\n",
    "lhs2= lhs2.replace(tanh(c_2/2),sinh(c_2/2)/cosh(c_2/2)).replace(tanh(c_2/2 + sqrt(2)*y),sinh(c_2/2 + sqrt(2)*y)/cosh(c_2/2 + sqrt(2)*y))\n",
    "rhs2 = 2 * (sinh(c_2/2)*cosh(c_2/2 + sqrt(2)*y) - sinh(c_2/2 + sqrt(2)*y)*cosh(c_2/2))**2\n",
    "print(\"Is the identity satisfied?\", simplify(lhs2 - rhs2) == 0)"
   ]
  },
  {
   "cell_type": "code",
   "execution_count": 26,
   "id": "199da498",
   "metadata": {},
   "outputs": [
    {
     "name": "stdout",
     "output_type": "stream",
     "text": [
      "Is the identity satisfied? True\n"
     ]
    }
   ],
   "source": [
    "# Check the third identity\n",
    "lhs3 = 2 * (sinh(c_2/2)*cosh(c_2/2 + sqrt(2)*y) - sinh(c_2/2 + sqrt(2)*y)*cosh(c_2/2))**2\n",
    "rhs3 = 2 * sinh(sqrt(2)*y)**2\n",
    "print(\"Is the identity satisfied?\", simplify(lhs3 - rhs3) == 0)"
   ]
  },
  {
   "cell_type": "code",
   "execution_count": 27,
   "id": "196c1115",
   "metadata": {},
   "outputs": [
    {
     "name": "stdout",
     "output_type": "stream",
     "text": [
      "Is the identity satisfied? True\n"
     ]
    }
   ],
   "source": [
    "# Check the fourth identity with sympy\n",
    "lhs4 = cosh(sqrt(2)*y) + cosh(c_2 + sqrt(2)*y)\n",
    "rhs4 = 2 * cosh(c_2/2) * cosh(c_2/2 + sqrt(2)*y)\n",
    "print(\"Is the identity satisfied?\", simplify(lhs4 - rhs4) == 0)"
   ]
  },
  {
   "cell_type": "markdown",
   "id": "3fccc09c-75d2-4cd7-a26f-d95f696f6319",
   "metadata": {},
   "source": [
    "### Calculating $h'(y)$\n",
    "We have $h(y) = A(y) + B(y)$ with\n",
    "$$\n",
    "A(y) = \\frac{\\sinh^{2}{\\left(\\sqrt{2} y \\right)}}{\\cosh^{2}{\\left(\\frac{c_{2}}{2}\\right)} + \\cosh^{2}{\\left(\\frac{c_{2}}{2} + \\sqrt{2} y\\right)}}\\,.\n",
    "$$\n",
    "\n",
    "and\n",
    "$$\n",
    "B(y) = \\log{\\left(\\frac{\\cosh^{2}{\\left(\\frac{c_{2}}{2}\\right)} + \\cosh^{2}{\\left(\\frac{c_{2}}{2} + \\sqrt{2} y\\right)}}{2 \\cosh{\\left(\\frac{c_{2}}{2}\\right)} \\cosh{\\left(\\frac{c_{2}}{2} + \\sqrt{2} y\\right)}}\\right)}\\,.\n",
    "$$\n",
    "\n",
    "We have used the above identities to obtain this simplification. The expression for $B$ is straightforward, while the expression for $A$ makes use of the first identities."
   ]
  },
  {
   "cell_type": "code",
   "execution_count": 28,
   "id": "a31918e1",
   "metadata": {},
   "outputs": [],
   "source": [
    "A = sinh(sqrt(2)*y)**2 / (cosh(c_2/2)**2 + cosh(c_2/2 + sqrt(2)*y)**2)\n",
    "B = log((cosh(c_2/2)**2 + cosh(c_2/2 + sqrt(2)*y)**2) / (2 * cosh(c_2/2) * cosh(c_2/2 + sqrt(2)*y)))"
   ]
  },
  {
   "cell_type": "markdown",
   "id": "d44de7cd-ab31-4046-81e1-66cd2a8529aa",
   "metadata": {},
   "source": [
    "**Derivative of $A$**"
   ]
  },
  {
   "cell_type": "code",
   "execution_count": 29,
   "id": "9d69fbed-06ef-4398-8dd3-fe897c2a7205",
   "metadata": {},
   "outputs": [
    {
     "data": {
      "image/png": "[encoded data removed]",
      "text/latex": [
       "$\\displaystyle \\frac{2 \\sqrt{2} \\sinh{\\left(\\sqrt{2} y \\right)} \\cosh{\\left(\\sqrt{2} y \\right)}}{\\cosh^{2}{\\left(\\frac{c_{2}}{2} \\right)} + \\cosh^{2}{\\left(\\frac{c_{2}}{2} + \\sqrt{2} y \\right)}} - \\frac{2 \\sqrt{2} \\sinh^{2}{\\left(\\sqrt{2} y \\right)} \\sinh{\\left(\\frac{c_{2}}{2} + \\sqrt{2} y \\right)} \\cosh{\\left(\\frac{c_{2}}{2} + \\sqrt{2} y \\right)}}{\\left(\\cosh^{2}{\\left(\\frac{c_{2}}{2} \\right)} + \\cosh^{2}{\\left(\\frac{c_{2}}{2} + \\sqrt{2} y \\right)}\\right)^{2}}$"
      ],
      "text/plain": [
       "                                        2           ⎛c₂       ⎞     ⎛c₂    ↪\n",
       "                               2⋅√2⋅sinh (√2⋅y)⋅sinh⎜── + √2⋅y⎟⋅cosh⎜── +  ↪\n",
       " 2⋅√2⋅sinh(√2⋅y)⋅cosh(√2⋅y)                         ⎝2        ⎠     ⎝2     ↪\n",
       "──────────────────────────── - ─────────────────────────────────────────── ↪\n",
       "    2⎛c₂⎞       2⎛c₂       ⎞                                         2     ↪\n",
       "cosh ⎜──⎟ + cosh ⎜── + √2⋅y⎟           ⎛    2⎛c₂⎞       2⎛c₂       ⎞⎞      ↪\n",
       "     ⎝2 ⎠        ⎝2        ⎠           ⎜cosh ⎜──⎟ + cosh ⎜── + √2⋅y⎟⎟      ↪\n",
       "                                       ⎝     ⎝2 ⎠        ⎝2        ⎠⎠      ↪\n",
       "\n",
       "↪     ⎞\n",
       "↪ √2⋅y⎟\n",
       "↪     ⎠\n",
       "↪ ─────\n",
       "↪      \n",
       "↪      \n",
       "↪      \n",
       "↪      "
      ]
     },
     "execution_count": 29,
     "metadata": {},
     "output_type": "execute_result"
    }
   ],
   "source": [
    "A.diff(y) #SymPy does not make a good job at simplifying this expression"
   ]
  },
  {
   "cell_type": "code",
   "execution_count": 30,
   "id": "b26a611f-4dc7-4010-a979-8a90b4cde28e",
   "metadata": {},
   "outputs": [
    {
     "data": {
      "image/png": "[encoded data removed]",
      "text/latex": [
       "$\\displaystyle 0$"
      ],
      "text/plain": [
       "0"
      ]
     },
     "execution_count": 30,
     "metadata": {},
     "output_type": "execute_result"
    }
   ],
   "source": [
    "simplify(A.diff(y)-sqrt(2)*sinh(sqrt(2)*y)*(cosh(c_2+sqrt(2)*y)+cosh(sqrt(2)*y)*(2+cosh(c_2)))/((cosh(c_2/2)**2+cosh(c_2/2+sqrt(2)*y)**2)**2))"
   ]
  },
  {
   "cell_type": "markdown",
   "id": "d8b7a86d-c393-4978-9c3e-19b6883df82f",
   "metadata": {},
   "source": [
    "We simplified this expression by hand. The 2 calculations that follow are intermediate steps."
   ]
  },
  {
   "cell_type": "code",
   "execution_count": 31,
   "id": "bec024a9-30c4-4e5f-9563-ede58b16e7d1",
   "metadata": {},
   "outputs": [
    {
     "data": {
      "image/png": "[encoded data removed]",
      "text/latex": [
       "$\\displaystyle \\frac{\\sinh{\\left(c_{2} + 2 \\sqrt{2} y \\right)}}{2}$"
      ],
      "text/plain": [
       "sinh(c₂ + 2⋅√2⋅y)\n",
       "─────────────────\n",
       "        2        "
      ]
     },
     "execution_count": 31,
     "metadata": {},
     "output_type": "execute_result"
    }
   ],
   "source": [
    "simplify(sinh(c_2/2+sqrt(2)*y)*cosh(c_2/2+sqrt(2)*y))"
   ]
  },
  {
   "cell_type": "code",
   "execution_count": 32,
   "id": "865a1ec8-4d34-4bc6-bbe4-8d04f1cba610",
   "metadata": {
    "scrolled": true
   },
   "outputs": [
    {
     "data": {
      "image/png": "[encoded data removed]",
      "text/latex": [
       "$\\displaystyle \\frac{\\cosh{\\left(c_{2} \\right)}}{2} + \\frac{\\cosh{\\left(c_{2} + 2 \\sqrt{2} y \\right)}}{2} + 1$"
      ],
      "text/plain": [
       "cosh(c₂)   cosh(c₂ + 2⋅√2⋅y)    \n",
       "──────── + ───────────────── + 1\n",
       "   2               2            "
      ]
     },
     "execution_count": 32,
     "metadata": {},
     "output_type": "execute_result"
    }
   ],
   "source": [
    "simplify(cosh(c_2/2)**2+cosh(c_2/2+sqrt(2)*y)**2)"
   ]
  },
  {
   "cell_type": "markdown",
   "id": "50f99db0-36a5-43fb-b9ca-3bc1d79afddc",
   "metadata": {},
   "source": [
    "We have\n",
    "\n",
    "$$\n",
    "\\begin{aligned}\n",
    "A'(y)&=\\frac{2 \\sqrt{2} \\sinh{\\left(\\sqrt{2} y \\right)} \\cosh{\\left(\\sqrt{2} y \\right)}}{\\cosh^{2}{\\left(\\frac{c_{2}}{2} \\right)} + \\cosh^{2}{\\left(\\frac{c_{2}}{2} + \\sqrt{2} y \\right)}} - \\frac{2 \\sqrt{2} \\sinh^{2}{\\left(\\sqrt{2} y \\right)} \\sinh{\\left(\\frac{c_{2}}{2} + \\sqrt{2} y \\right)} \\cosh{\\left(\\frac{c_{2}}{2} + \\sqrt{2} y \\right)}}{\\left(\\cosh^{2}{\\left(\\frac{c_{2}}{2} \\right)} + \\cosh^{2}{\\left(\\frac{c_{2}}{2} + \\sqrt{2} y \\right)}\\right)^{2}} \\,, \\\\\n",
    "&= \\frac{2 \\sqrt{2} \\sinh{\\left(\\sqrt{2} y \\right)} \\left( \\left(\\cosh^{2}{\\left(\\frac{c_{2}}{2} \\right)} + \\cosh^{2}{\\left(\\frac{c_{2}}{2} + \\sqrt{2} y \\right)}\\right) \\cosh{\\left(\\sqrt{2} y \\right)} - \\sinh{\\left(\\sqrt{2} y \\right)} \\sinh{\\left(\\frac{c_{2}}{2} + \\sqrt{2} y \\right)} \\cosh{\\left(\\frac{c_{2}}{2} + \\sqrt{2} y \\right)} \\right)}{\\left(\\cosh^{2}{\\left(\\frac{c_{2}}{2} \\right)} + \\cosh^{2}{\\left(\\frac{c_{2}}{2} + \\sqrt{2} y \\right)}\\right)^2} \\,, \\\\\n",
    "&= \\frac{\\sqrt{2} \\sinh(\\sqrt{2}y) \\left( \\cosh(c_2+\\sqrt{2}y) +\\cosh(\\sqrt{2}y)(2+\\cosh(c_2))\\right)}{\\left(\\cosh^2\\left(\\frac{c_2}{2}\\right)+\\cosh^2\\left(\\frac{c_2}{2}+\\sqrt{2}y\\right)\\right)^2} \\,.\n",
    "\\end{aligned}\n",
    "$$\n",
    "\n"
   ]
  },
  {
   "cell_type": "markdown",
   "id": "892110a3-bddd-44b7-8769-ad1e79520800",
   "metadata": {},
   "source": [
    "**Derivative of $B$**"
   ]
  },
  {
   "cell_type": "code",
   "execution_count": 33,
   "id": "f1affb23-1040-4d8c-8cf0-19e896f17642",
   "metadata": {},
   "outputs": [
    {
     "data": {
      "image/png": "[encoded data removed]",
      "text/latex": [
       "$\\displaystyle - \\frac{2 \\sqrt{2} \\left(\\cosh{\\left(c_{2} \\right)} - \\cosh{\\left(c_{2} + 2 \\sqrt{2} y \\right)}\\right) \\tanh{\\left(\\frac{c_{2}}{2} + \\sqrt{2} y \\right)}}{2 \\cosh{\\left(c_{2} \\right)} + 2 \\cosh{\\left(c_{2} + 2 \\sqrt{2} y \\right)} + 4}$"
      ],
      "text/plain": [
       "                                         ⎛c₂       ⎞ \n",
       "-2⋅√2⋅(cosh(c₂) - cosh(c₂ + 2⋅√2⋅y))⋅tanh⎜── + √2⋅y⎟ \n",
       "                                         ⎝2        ⎠ \n",
       "─────────────────────────────────────────────────────\n",
       "        2⋅cosh(c₂) + 2⋅cosh(c₂ + 2⋅√2⋅y) + 4         "
      ]
     },
     "execution_count": 33,
     "metadata": {},
     "output_type": "execute_result"
    }
   ],
   "source": [
    "simplify(B.diff(y))"
   ]
  },
  {
   "cell_type": "markdown",
   "id": "433c989b-9c66-4785-93f4-54b2200c5870",
   "metadata": {},
   "source": [
    "Using that $$2\\cosh{\\left(c_{2} \\right)} + 2\\cosh{\\left(c_{2} + 2 \\sqrt{2} y \\right)} + 4=4\\left(\\cosh^2{\\left(c_{2} \\right)}+ \\cosh^2{\\left(c_{2} + 2 \\sqrt{2} y \\right)}\\right)$$\n",
    "and that $$\\cosh{\\left(c_{2} \\right)} - \\cosh{\\left(c_{2} + 2 \\sqrt{2} y \\right)}=2\\cosh^2{\\left(c_{2} \\right)}-2\\cosh^2{\\left(c_{2} + 2 \\sqrt{2} y \\right)} \\,,$$\n",
    "we deduce that \n",
    "$$B'(y)= \\frac{\\sqrt{2}\\sinh\\left(\\frac{c_2}{2}+\\sqrt{2}y\\right)\\left(\\cosh^2\\left(\\frac{c_2}{2}+\\sqrt{2}y\\right) - \\cosh^2\\left(\\frac{c_2}{2}\\right)\\right) }{\\cosh\\left(\\frac{c_2}{2}+\\sqrt{2}y\\right) \\left( \\cosh^2\\left(\\frac{c_2}{2}\\right)+\\cosh^2\\left(\\frac{c_2}{2}+\\sqrt{2}y\\right)\\right)} \\,.$$"
   ]
  },
  {
   "cell_type": "code",
   "execution_count": 34,
   "id": "1e5f8849",
   "metadata": {},
   "outputs": [
    {
     "name": "stdout",
     "output_type": "stream",
     "text": [
      "Is the symbolic derivative equal to the claimed expression? True\n"
     ]
    }
   ],
   "source": [
    "# Define the symbolic expression for the claimed derivative\n",
    "numerator = sqrt(2) * sinh(c_2/2 + sqrt(2)*y) * (cosh(c_2/2 + sqrt(2)*y)**2 - cosh(c_2/2)**2)\n",
    "denominator = cosh(c_2/2 + sqrt(2)*y) * (cosh(c_2/2)**2 + cosh(c_2/2 + sqrt(2)*y)**2)\n",
    "claimed_derivative = numerator / denominator\n",
    "\n",
    "# Compute the difference and simplify\n",
    "print(\"Is the symbolic derivative equal to the claimed expression?\", simplify(B.diff(y) - claimed_derivative) == 0)"
   ]
  },
  {
   "cell_type": "markdown",
   "id": "d8039105-5695-41b4-b41b-6c833557173b",
   "metadata": {},
   "source": [
    "## II.2. Half lines\n",
    "\n",
    "For \n",
    "$$\n",
    "(\\tilde{\\gamma}_t(y),\\tilde{\\gamma}_u(y))=\\left( c_{3} , \\  \\sqrt{- \\frac{\\tau^{2}}{2} +\\frac{c_{1}^2}{2} e^{\\pm \\sqrt{8} y} }\\right)\n",
    "$$ \n",
    "with starting point $x_0$, we have $c_3=t_0$ and $c_1^2=2u_0^2+\\tau^2$ from which we deduce that $d(x_0, \\tilde \\gamma(y))^2=\\ln(\\cosh(\\sqrt{2}y))$ (it is the same result with the plus or minus sign).\n",
    "\n",
    "This function is non-decreasing on $\\mathbb{R}_+$."
   ]
  },
  {
   "cell_type": "code",
   "execution_count": 35,
   "id": "0985aba6-8479-4452-8f55-2ef6291ac346",
   "metadata": {},
   "outputs": [
    {
     "data": {
      "image/png": "[encoded data removed]",
      "text/latex": [
       "$\\displaystyle \\left[ c_{3}, \\  \\sqrt{\\frac{c_{1}^{2} e^{2 \\sqrt{2} y}}{2} - \\frac{\\tau^{2}}{2}}\\right]$"
      ],
      "text/plain": [
       "⎡         __________________⎤\n",
       "⎢        ╱   2  2⋅√2⋅y    2 ⎥\n",
       "⎢       ╱  c₁ ⋅ℯ         τ  ⎥\n",
       "⎢c₃,   ╱   ─────────── - ── ⎥\n",
       "⎣    ╲╱         2        2  ⎦"
      ]
     },
     "execution_count": 35,
     "metadata": {},
     "output_type": "execute_result"
    }
   ],
   "source": [
    "def sol_gamma_t_2(y):\n",
    "    return c_3\n",
    "def sol_gamma_u_2(y):\n",
    "    return sqrt(c_1**2/2*exp(sqrt(8)*y)-tau**2/2)\n",
    "[sol_gamma_t_2(y) , sol_gamma_u_2(y)]"
   ]
  },
  {
   "cell_type": "code",
   "execution_count": 36,
   "id": "a9683ae1-b4f6-47e6-bc40-9d3b05ef68bd",
   "metadata": {},
   "outputs": [
    {
     "data": {
      "image/png": "[encoded data removed]",
      "text/latex": [
       "$\\displaystyle \\log{\\left(\\cosh{\\left(\\sqrt{2} y \\right)} \\right)}$"
      ],
      "text/plain": [
       "log(cosh(√2⋅y))"
      ]
     },
     "execution_count": 36,
     "metadata": {},
     "output_type": "execute_result"
    }
   ],
   "source": [
    "simplify(semi_dist_2.subs({t_1:c_3, u_1:sqrt(-tau**2/2+c_1**2/2), t_2: sol_gamma_t_2(y), u_2: sol_gamma_u_2(y)}))"
   ]
  },
  {
   "cell_type": "code",
   "execution_count": 37,
   "id": "5998f66c-7016-4186-8a7c-7fa90c68b9a0",
   "metadata": {},
   "outputs": [
    {
     "data": {
      "image/png": "[encoded data removed]",
      "text/latex": [
       "$\\displaystyle \\left[ c_{3}, \\  \\sqrt{\\frac{c_{1}^{2} e^{2 \\sqrt{2} y}}{2} - \\frac{\\tau^{2}}{2}}\\right]$"
      ],
      "text/plain": [
       "⎡         __________________⎤\n",
       "⎢        ╱   2  2⋅√2⋅y    2 ⎥\n",
       "⎢       ╱  c₁ ⋅ℯ         τ  ⎥\n",
       "⎢c₃,   ╱   ─────────── - ── ⎥\n",
       "⎣    ╲╱         2        2  ⎦"
      ]
     },
     "execution_count": 37,
     "metadata": {},
     "output_type": "execute_result"
    }
   ],
   "source": [
    "def sol_gamma_t_3(y):\n",
    "    return c_3\n",
    "def sol_gamma_u_3(y):\n",
    "    return sqrt(c_1**2/2*exp(-sqrt(8)*y)-tau**2/2)\n",
    "[sol_gamma_t_2(y) , sol_gamma_u_2(y)]"
   ]
  },
  {
   "cell_type": "code",
   "execution_count": 38,
   "id": "190c3685-e36a-4958-9d73-ec715651eb82",
   "metadata": {},
   "outputs": [
    {
     "data": {
      "image/png": "[encoded data removed]",
      "text/latex": [
       "$\\displaystyle \\log{\\left(\\cosh{\\left(\\sqrt{2} y \\right)} \\right)}$"
      ],
      "text/plain": [
       "log(cosh(√2⋅y))"
      ]
     },
     "execution_count": 38,
     "metadata": {},
     "output_type": "execute_result"
    }
   ],
   "source": [
    "simplify(semi_dist_2.subs({t_1:c_3, u_1:sqrt(-tau**2/2+c_1**2/2), t_2: sol_gamma_t_3(y), u_2: sol_gamma_u_3(y)}))"
   ]
  },
  {
   "cell_type": "markdown",
   "id": "08caa90f-0e38-416a-9699-465d2439a218",
   "metadata": {
    "jp-MarkdownHeadingCollapsed": true
   },
   "source": [
    "# III. Control of the Fisher-Rao distance with the semi-distance, lower bound\n",
    "Let $d\\in \\mathbb{N}^*$, $r=\\frac{0.3025}{\\sqrt{d}}$. \n",
    "Let $x, x_0\\in \\mathbb{R}^d \\times [u_{min},+\\infty)^d$ such that $d(x,x_0)\\leq r$. We prove an inequality of the type $\\mathfrak{d}_{\\mathfrak{g}}(x,x_0)^2 \\geq \\frac{d(x,x_0)^2}{\\tilde \\varepsilon_3 }$.\n",
    "\n",
    "**Content**\n",
    "\n",
    "We showed that we can take $\\tilde \\varepsilon_3\\geq 1+\\frac{1}{R\\left(\\frac{0.3025}{\\sqrt{d}}\\right)}$ with \n",
    "$$ R(r)=\\frac{-\\left(1+\\frac{r^2}{2}\\right)+ \\sqrt{\\left(1+\\frac{r^2}{2}\\right)^2+2\\frac{e^{2r^2}-1}{r^2}}}{\\frac{e^{2r^2}-1}{r^2}} \\,.$$ \n",
    "We found a lower bound for $R(r)$, $\\frac{-\\left(1+\\frac{0.3025^2}{2}\\right)+\\sqrt{5}}{\\frac{e^{2\\times 0.3025^2}-1}{0.3025^2}}=:$ `bound`.\n",
    "We calculate this bound and an upper bound on $1+\\frac{1}{R(r)}$."
   ]
  },
  {
   "cell_type": "code",
   "execution_count": 39,
   "id": "9ef0a907-86ff-40f4-bc90-6d2e238dbb4d",
   "metadata": {},
   "outputs": [
    {
     "data": {
      "image/png": "[encoded data removed]",
      "text/latex": [
       "$\\displaystyle 0.542357037947299$"
      ],
      "text/plain": [
       "0.542357037947299"
      ]
     },
     "execution_count": 39,
     "metadata": {},
     "output_type": "execute_result"
    }
   ],
   "source": [
    "bound=(-(1+0.3025**2/2)+sqrt(5))/((exp(2*0.3025**2)-1)/(0.3025**2))\n",
    "bound.evalf()"
   ]
  },
  {
   "cell_type": "code",
   "execution_count": 40,
   "id": "cd3bea3b-d3f5-4d6e-84b7-6ad0eefb56b3",
   "metadata": {},
   "outputs": [
    {
     "data": {
      "image/png": "[encoded data removed]",
      "text/latex": [
       "$\\displaystyle 2.84380385987942$"
      ],
      "text/plain": [
       "2.84380385987942"
      ]
     },
     "execution_count": 40,
     "metadata": {},
     "output_type": "execute_result"
    }
   ],
   "source": [
    "1+1/(bound.evalf())"
   ]
  },
  {
   "cell_type": "markdown",
   "id": "a01bdbe8-2762-4502-b426-a39f25f4037b",
   "metadata": {
    "jp-MarkdownHeadingCollapsed": true
   },
   "source": [
    "# IV. Global controls on the kernel\n",
    "\n",
    "We give $B_{ij}$ of <u>Assumption 1</u> ([Poon et al., 2021](https://link.springer.com/article/10.1007/s10208-021-09545-5)) for $(i,j) \\in \\lbrace 0, 1\\rbrace \\times \\lbrace 0, 1, 2 \\rbrace$. $B_{ij}$ is a constant such that $\\underset{x,x' \\in \\mathbb{R}\\times [u_{min},+\\infty)}{\\sup} \\|K_{norm}^{(ij)}(x,x')\\|_{x,x'} \\leq B_{ij}$. We recall that \n",
    "$$\n",
    "\\|K_{norm}^{(00)}(x,x')\\|_{x,x'}=|K_{norm}(x,x')|\\,,\n",
    "$$\n",
    "   \n",
    "$$\n",
    "\\|K_{norm}^{(10)}(x,x')\\|_{x,x'}=\\|\\mathfrak{g}_x^{-1/2}\\nabla_1 K_{norm}(x,x')\\|_2\\,,\n",
    "$$\n",
    "\n",
    "$$\n",
    "\\|K_{norm}^{(11)}(x,x')\\|_{x,x'}=\\|\\mathfrak{g}_x^{-1/2}\\nabla_1 \\nabla_2 K_{norm}(x,x')\\mathfrak{g}_{x'}^{-1/2}\\|_2\\,,\n",
    "$$\n",
    "\n",
    "$$\n",
    "\\|K_{norm}^{(02)}(x,x')\\|_{x,x'}=\\|\\mathfrak{g}_{x'}^{-1/2}H_2^{\\mathfrak{g}} K_{norm}(x,x')\\mathfrak{g}_{x'}^{-1/2}\\|_2\n",
    "$$ \n",
    "\n",
    "and\n",
    "\n",
    "$$\n",
    "\\|K_{norm}^{(12)}(x,x')\\|_{x,x'}=\\sup_{\\substack{ \\|V_1\\|_{x'}, \\|V_2\\|_{x'} \\leq 1 \\\\ \\|(q_1,q_2)\\|_{x} \\leq 1}} q_1 V_1^T \\partial_t H_2^{\\mathfrak{g}} K_{norm}(x,x') V_2 + q_2 V_1^T \\partial_u H_2^{\\mathfrak{g}} K_{norm}(x,x') V_2 \\,. \n",
    "$$\n",
    "\n",
    "**Content**\n",
    "\n",
    "* We calculate quantities relevant to the proof."
   ]
  },
  {
   "cell_type": "code",
   "execution_count": 41,
   "id": "940dee6b-cb15-446d-a19f-2c19cc8aafcc",
   "metadata": {},
   "outputs": [],
   "source": [
    "t_1 , t_2, tau=symbols(\"t t' tau\", real=True)\n",
    "u_1, u_2=symbols(\"u u'\", positive=True)\n",
    "K_norm=(2*u_1**2+tau**2)**Rational(1, 4)*(2*u_2**2+tau**2)**Rational(1, 4)*1/sqrt(u_1**2+u_2**2+tau**2)*exp(-(t_1-t_2)**2/(2*(u_1**2+u_2**2+tau**2)))\n",
    "\n",
    "g_tt=diff(K_norm,t_1,t_2).subs({u_2:u_1,t_2:t_1})\n",
    "g_uu=diff(K_norm,u_1,u_2).subs({u_2:u_1,t_2:t_1})\n",
    "christoffel_symbols_t=Matrix([[0,-2*u_1/(tau**2+2*u_1**2)],[-2*u_1/(tau**2+2*u_1**2),0]])\n",
    "christoffel_symbols_u=Matrix([[1/u_1,0],[0,(tau**2-2*u_1**2)/((tau**2+2*u_1**2)*u_1)]])"
   ]
  },
  {
   "cell_type": "markdown",
   "id": "bb32612d-b017-4fd4-a751-784e0047b30d",
   "metadata": {},
   "source": [
    "$\\mathfrak{g}_{t't'}^{-2} \\left(\\partial_{t tt't'} K_{norm}(x',x') +\\Gamma^{u'}{}_{t' t'}^2\\partial_{uu'} K_{norm}(x',x')-2\\Gamma^{u'}{}_{t' t'} \\partial_{t tu'}K_{norm}(x',x')\\right)$"
   ]
  },
  {
   "cell_type": "code",
   "execution_count": 42,
   "id": "7d95ce71-d040-4ef0-9849-8a6efce49be7",
   "metadata": {},
   "outputs": [
    {
     "data": {
      "image/png": "[encoded data removed]",
      "text/latex": [
       "$\\displaystyle 1$"
      ],
      "text/plain": [
       "1"
      ]
     },
     "execution_count": 42,
     "metadata": {},
     "output_type": "execute_result"
    }
   ],
   "source": [
    "Gamma_u_tt_2=christoffel_symbols_u[0,0].subs({t_1:t_2,u_1:u_2})\n",
    "simplify((diff(K_norm,t_2,t_2,t_1,t_1).subs({u_1:u_2,t_1:t_2}) \n",
    "         + Gamma_u_tt_2**2*diff(K_norm,u_1,u_2).subs({u_1:u_2,t_1:t_2})\n",
    "        -2*Gamma_u_tt_2*diff(K_norm,t_1,t_1,u_2).subs({u_1:u_2,t_1:t_2}))/(g_tt.subs({u_1:u_2,t_1:t_2})**2))"
   ]
  },
  {
   "cell_type": "markdown",
   "id": "81a28531-3921-402e-b977-c7c48b9e1322",
   "metadata": {},
   "source": [
    "$$\n",
    "\\mathfrak{g}_{t't'}^{-1} \\mathfrak{g}_{u'u'}^{-1} \\left( \n",
    "\\partial_{tut'u'} K_{norm}(x', x') \n",
    "+ \\Gamma^{t'}{}_{t'u'}^2 \\partial_{t t'} K_{norm}(x', x') \n",
    "- 2 \\Gamma^{t'}{}_{t'u'} \\partial_{t u t'} K_{norm}(x', x') \n",
    "\\right)\n",
    "$$"
   ]
  },
  {
   "cell_type": "code",
   "execution_count": 43,
   "id": "8807345c-005a-472d-a496-f63b24faaeea",
   "metadata": {},
   "outputs": [
    {
     "data": {
      "image/png": "[encoded data removed]",
      "text/latex": [
       "$\\displaystyle 3$"
      ],
      "text/plain": [
       "3"
      ]
     },
     "execution_count": 43,
     "metadata": {},
     "output_type": "execute_result"
    }
   ],
   "source": [
    "Gamma_t_tu_2=christoffel_symbols_t[0,1].subs({t_1:t_2,u_1:u_2})\n",
    "simplify((diff(K_norm,t_2,u_2,t_1,u_1).subs({u_1:u_2,t_1:t_2}) \n",
    "         + Gamma_t_tu_2**2*diff(K_norm,t_1,t_2).subs({u_1:u_2,t_1:t_2})\n",
    "        -2*Gamma_t_tu_2*diff(K_norm,t_1,u_1,t_2).subs({u_1:u_2,t_1:t_2}))/(g_tt.subs({u_1:u_2,t_1:t_2})*g_uu.subs({u_1:u_2,t_1:t_2})))"
   ]
  },
  {
   "cell_type": "markdown",
   "id": "384aa0d7-63a5-473e-a961-24d026df1e91",
   "metadata": {},
   "source": [
    "$$\n",
    "\\mathfrak{g}_{u'u'}^{-2} \\left( \n",
    "\\partial_{uuu'u'} K_{norm}(x', x') \n",
    "+ \\Gamma^{u'}{}_{u'u'}^2 \\partial_{u u'} K_{norm}(x', x') \n",
    "- 2 \\Gamma^{u'}{}_{u'u'} \\partial_{u u u'} K_{norm}(x', x') \n",
    "\\right)\n",
    "$$"
   ]
  },
  {
   "cell_type": "code",
   "execution_count": 44,
   "id": "8cf32bbe-33b4-4bf3-abc4-8944f323cbed",
   "metadata": {},
   "outputs": [
    {
     "data": {
      "image/png": "[encoded data removed]",
      "text/latex": [
       "$\\displaystyle 7$"
      ],
      "text/plain": [
       "7"
      ]
     },
     "execution_count": 44,
     "metadata": {},
     "output_type": "execute_result"
    }
   ],
   "source": [
    "Gamma_u_uu_2=christoffel_symbols_u[1,1].subs({t_1:t_2,u_1:u_2})\n",
    "simplify((diff(K_norm,u_2,u_2,u_1,u_1).subs({u_1:u_2,t_1:t_2}) \n",
    "         + Gamma_u_uu_2**2*diff(K_norm,u_1,u_2).subs({u_1:u_2,t_1:t_2})\n",
    "        -2*Gamma_u_uu_2*diff(K_norm,u_1,u_1,u_2).subs({u_1:u_2,t_1:t_2}))/(g_uu.subs({u_1:u_2,t_1:t_2})**2))"
   ]
  },
  {
   "cell_type": "markdown",
   "id": "63f3355a-bcbe-4c81-bbdf-e4609a123c2d",
   "metadata": {
    "jp-MarkdownHeadingCollapsed": true
   },
   "source": [
    "# V. Obtaining a lower bound $\\bar \\varepsilon_2$ on the Hessian\n",
    "Denoting the Christoffel symbols $\\Gamma^{i'}=\\begin{pmatrix}\n",
    "      \\Gamma^{i'}{}_{t' t'} &  \\Gamma^{i'}{}_{t' u'} \n",
    "      \\\\  \\Gamma^{i'}{}_{t' u'}  &   \\Gamma^{i'}{}_{u' u'} \n",
    "\\end{pmatrix}$, the Riemannian Hessian of $K_{norm}$ wrt the second variable is $$H_2^{\\mathfrak{g}} K_{norm}(x,x')=\\nabla_{x'}^2 K_{norm}(x,x')-\\Gamma^{t'} \\frac{\\partial}{\\partial t'}K_{norm}(x,x')-\\Gamma^{u'} \\frac{\\partial}{\\partial u'}K_{norm}(x,x')\\,.$$\n",
    "\n",
    "$\\bar \\varepsilon_2(r)$ is a positive constant such that $$- (v_1, v_2) H_2^{\\mathfrak{g}} K_{norm}(x,x') (v_1, v_2)^{T}\\geq \\bar\\varepsilon_2(r) \\|(v_1, v_2)\\|_{x'}^2$$ for all $x, x' \\in \\mathbb{R}\\times [u_{min},+ \\infty)$ such that $d(x,x')\\leq r$, for all $(v_1, v_2) \\in \\mathbb{R}^2$.\n",
    "\n",
    "**Content**\n",
    "\n",
    "* We calculate $H_2^{\\mathfrak{g}} K_{norm}(x,x')$.\n",
    "* We provide quantities used to get $\\bar \\varepsilon_2$.\n"
   ]
  },
  {
   "cell_type": "markdown",
   "id": "5f1a5e13-11ae-444c-b445-516920ac6941",
   "metadata": {},
   "source": [
    "## V.1. Calculation of the Riemannian Hessian $H_2^{\\mathfrak{g}} K_{norm}(x,x')$\n",
    "\n",
    "We calculate $\\tilde{H}^{02}(x,x'):=\\frac{1}{K_{norm}(x,x')} H_2^{\\mathfrak{g}} K_{norm}(x,x')=\\frac{1}{K_{norm}(x,x')}\\mathfrak{g}_{x'}^{-1/2}H^{\\mathfrak{g}}_2 K_{norm}(x,x') \\mathfrak{g}_{x'}^{-1/2}$.\n",
    "\n",
    "We show that \n",
    "$\\tilde{H}^{02}(x,x')=\\begin{pmatrix}\n",
    "            \\tilde H_{t't'}^{02}(x,x') & \\tilde H_{t'u'}^{02}(x,x') \\\\\n",
    "            \\tilde H^{02}_{12}(x,x') & \\tilde H_{u'u'}^{02}(x,x') \n",
    "        \\end{pmatrix}$ where $\\tilde H_{t't'}^{02}(x,x')=-1$,\n",
    "        \n",
    "$$\\tilde H_{t'u'}^{02}(x,x')=\\frac{(t-t')^3 (2u'^2+\\tau^2)^{3/2}}{\\sqrt{2}(u^2 + u'^2 + \\tau^2)^3}- \\frac{3(t-t')(2u'^2+\\tau^2)^{1/2} (u'^2-u^2)}{\\sqrt{2}(u^2 + u'^2 + \\tau^2)^2}\\,, $$\n",
    "\n",
    "$$\\tilde H_{u'u'}^{02}(x,x')=\\frac{(t-t')^4 (2u'^2+\\tau^2)^{2}}{2(u^2+u'^2+\\tau^2)^4}+ \n",
    "\\frac{3(t-t')^2 (2u'^2+\\tau^2)(u^2-u'^2)}{(u^2+u'^2+\\tau^2)^3}+\\frac{(u^2-u'^2)^2}{2(u^2+u'^2+\\tau^2)^2}-\\frac{(2u^2+\\tau^2)(2u'^2+\\tau^2)}{(u^2+u'^2+\\tau^2)^2}\\,.$$  \n",
    "\n",
    "\n",
    "<a id='calculation_riemannian_hessian'></a>"
   ]
  },
  {
   "cell_type": "code",
   "execution_count": 45,
   "id": "bdc58721-4d65-4134-b09e-60dc26688475",
   "metadata": {},
   "outputs": [],
   "source": [
    "t_1 , t_2, tau=symbols(\"t t' tau\", real=True)\n",
    "u_1, u_2=symbols(\"u u'\", positive=True)\n",
    "K_norm=(2*u_1**2+tau**2)**Rational(1, 4)*(2*u_2**2+tau**2)**Rational(1, 4)*1/sqrt(u_1**2+u_2**2+tau**2)*exp(-(t_1-t_2)**2/(2*(u_1**2+u_2**2+tau**2)))\n",
    "\n",
    "g_tt=diff(K_norm,t_1,t_2).subs({u_2:u_1,t_2:t_1})\n",
    "g_uu=diff(K_norm,u_1,u_2).subs({u_2:u_1,t_2:t_1})\n",
    "g_inv_sqrt=Matrix([[sqrt(1/g_tt),0],[0,sqrt(1/g_uu)]])\n",
    "christoffel_symbols_t_2=Matrix([[0,-2*u_2/(tau**2+2*u_2**2)],[-2*u_2/(tau**2+2*u_2**2),0]])\n",
    "christoffel_symbols_u_2=Matrix([[1/u_2,0],[0,(tau**2-2*u_2**2)/((tau**2+2*u_2**2)*u_2)]])"
   ]
  },
  {
   "cell_type": "markdown",
   "id": "119db88a-8b55-4e69-8545-6a7186dfa676",
   "metadata": {},
   "source": [
    "In the next cell, we check that the expression we simplified by hand is equal to the result given by Sympy."
   ]
  },
  {
   "cell_type": "code",
   "execution_count": 46,
   "id": "d822d175-f6d3-4d03-bdaf-7b6b47070fc2",
   "metadata": {},
   "outputs": [
    {
     "data": {
      "image/png": "[encoded data removed]",
      "text/latex": [
       "$\\displaystyle \\left[\\begin{matrix}0 & 0\\\\0 & 0\\end{matrix}\\right]$"
      ],
      "text/plain": [
       "⎡0  0⎤\n",
       "⎢    ⎥\n",
       "⎣0  0⎦"
      ]
     },
     "execution_count": 46,
     "metadata": {},
     "output_type": "execute_result"
    }
   ],
   "source": [
    "riemannian_hessian_K=simplify(hessian(K_norm, (t_2,u_2))-christoffel_symbols_t_2*diff(K_norm,t_2)-christoffel_symbols_u_2*diff(K_norm,u_2))\n",
    "H_02_tilde=g_inv_sqrt.subs({t_1:t_2,u_1:u_2})*riemannian_hessian_K*g_inv_sqrt.subs({t_1:t_2,u_1:u_2})/K_norm\n",
    "\n",
    "H_02_tilde_tt_by_hand=-1\n",
    "\n",
    "H_02_tilde_tu_by_hand=(((t_1 - t_2)**3 * (2*u_2**2 + tau**2)**Rational(3,2)) / (sqrt(2)*(u_1**2 + u_2**2 + tau**2)**3) \n",
    "       - (3*(t_1 - t_2)*(2*u_2**2 + tau**2)**Rational(1,2)*(u_2**2 - u_1**2)) / (sqrt(2)*(u_1**2 + u_2**2 + tau**2)**2))\n",
    "\n",
    "\n",
    "H_02_tilde_uu_by_hand=(((t_1 - t_2)**4 * (2*u_2**2 + tau**2)**2) / (2*(u_1**2 + u_2**2 + tau**2)**4) \n",
    "     + (3*(t_1 - t_2)**2 * (2*u_2**2 + tau**2)*(u_1**2 - u_2**2)) / ((u_1**2 + u_2**2 + tau**2)**3) \n",
    "     + ((u_1**2 - u_2**2)**2) / (2*(u_1**2 + u_2**2 + tau**2)**2) \n",
    "     - ((2*u_1**2 + tau**2)*(2*u_2**2 + tau**2)) / ((u_1**2 + u_2**2 + tau**2)**2))\n",
    "\n",
    "simplify(Matrix([[H_02_tilde_tt_by_hand,H_02_tilde_tu_by_hand],[H_02_tilde_tu_by_hand,H_02_tilde_uu_by_hand]])-H_02_tilde)"
   ]
  },
  {
   "cell_type": "markdown",
   "id": "02723096-f9cb-4755-802f-4994893a283a",
   "metadata": {},
   "source": [
    "## V.2. Bound for the maximal eigenvalue of $\\tilde H^{02}(x,x')$\n",
    "The function $G: r \\mapsto \\frac{1}{\\sqrt{2}} r^3(e^{r^2}+\\sqrt{e^{2r^2}-1})^{3/2}+\\frac{3}{\\sqrt{2}}r \\sqrt{e^{2r^2}-1}\\sqrt{e^{r^2}+\\sqrt{e^{2r^2}-1}} +\\frac{1}{2}r^4 (e^{r^2}+\\sqrt{e^{2r^2}-1})^2 + 3r^2\\sqrt{e^{2r^2}-1}(e^{r^2}+\\sqrt{e^{2r^2}-1})+ \\frac{1}{2}(e^{2r^2}-1)-e^{-2r^2}$ is non-decreasing. We show that $G$ is negative on $[0,0.32]$."
   ]
  },
  {
   "cell_type": "code",
   "execution_count": 47,
   "id": "e8a68bc7-4346-44da-9206-4eb62d06489f",
   "metadata": {},
   "outputs": [
    {
     "data": {
      "image/png": "[encoded data removed]",
      "text/latex": [
       "$\\displaystyle -0.00235132149665677$"
      ],
      "text/plain": [
       "-0.00235132149665677"
      ]
     },
     "execution_count": 47,
     "metadata": {},
     "output_type": "execute_result"
    }
   ],
   "source": [
    "r=symbols('r', real=True)\n",
    "G=(1/sqrt(2))*r**3*(exp(r**2)+sqrt(exp(2*r**2)-1))**Rational(3,2) + (3/sqrt(2))*r*sqrt(exp(2*r**2)-1)*sqrt(exp(r**2)+sqrt(exp(2*r**2)-1)) + Rational(1,2)*r**4*(exp(r**2)+sqrt(exp(2*r**2)-1))**2 + 3*r**2*sqrt(exp(2*r**2)-1)*(exp(r**2)+sqrt(exp(2*r**2)-1)) + Rational(1,2)*(exp(2*r**2)-1) - exp(-2*r**2)\n",
    "G.evalf(subs={r:0.32})"
   ]
  },
  {
   "cell_type": "markdown",
   "id": "9f26915b-519c-4aa0-8c7c-6ea3a12b3504",
   "metadata": {},
   "source": [
    "## V.3. Dimension $d\\geq 1$: calculation of $\\tilde H_{b_k'b_l'}^{02}(x,x')$, $l\\neq k$"
   ]
  },
  {
   "cell_type": "markdown",
   "id": "f69ece28-5a63-4164-b45f-def3c665cf31",
   "metadata": {},
   "source": [
    "We show that $$\\mathfrak{g}_{x}^{-1/2}K_{norm}(x,x')^{-1}\\nabla_1 K_{norm}(x,x')=\\begin{pmatrix}\n",
    "     - \\frac{(t-t') \\sqrt{2u^2+\\tau^2}}{u^2+u'^2+\\tau^2}\n",
    "      \\\\  \\frac{(t-t')^2 (2u^2+\\tau^2)}{\\sqrt{2}(u^2+u'^2+\\tau^2)^2}+  \\frac{u'^2-u^2}{\\sqrt{2}(u^2+u'^2+\\tau^2)}\n",
    "\\end{pmatrix} \\,.$$\n",
    "\n",
    "<a id='calculation_tilde_h_10'></a>"
   ]
  },
  {
   "cell_type": "code",
   "execution_count": 48,
   "id": "7986140a-63c2-4da7-9b12-11b0ee8f14a7",
   "metadata": {},
   "outputs": [
    {
     "data": {
      "image/png": "[encoded data removed]",
      "text/latex": [
       "$\\displaystyle \\left[\\begin{matrix}\\sqrt{\\tau^{2} + 2 u^{2}} & 0\\\\0 & \\frac{\\sqrt{2} \\left(\\tau^{2} + 2 u^{2}\\right)}{2 u}\\end{matrix}\\right]$"
      ],
      "text/plain": [
       "⎡   ___________                ⎤\n",
       "⎢  ╱  2      2                 ⎥\n",
       "⎢╲╱  τ  + 2⋅u          0       ⎥\n",
       "⎢                              ⎥\n",
       "⎢                   ⎛ 2      2⎞⎥\n",
       "⎢                √2⋅⎝τ  + 2⋅u ⎠⎥\n",
       "⎢      0         ──────────────⎥\n",
       "⎣                     2⋅u      ⎦"
      ]
     },
     "execution_count": 48,
     "metadata": {},
     "output_type": "execute_result"
    }
   ],
   "source": [
    "g_inv_sqrt=Matrix([[sqrt(1/g_tt),0],[0,sqrt(1/g_uu)]])\n",
    "g_inv_sqrt"
   ]
  },
  {
   "cell_type": "code",
   "execution_count": 49,
   "id": "53e01f95-f075-4103-a02e-fa9e4e60f5f9",
   "metadata": {},
   "outputs": [
    {
     "data": {
      "image/png": "[encoded data removed]",
      "text/latex": [
       "$\\displaystyle \\left[\\begin{matrix}0\\\\0\\end{matrix}\\right]$"
      ],
      "text/plain": [
       "⎡0⎤\n",
       "⎢ ⎥\n",
       "⎣0⎦"
      ]
     },
     "execution_count": 49,
     "metadata": {},
     "output_type": "execute_result"
    }
   ],
   "source": [
    "H_10_tilde_by_hand=Matrix([\n",
    "    (-(t_1 - t_2)*sqrt(2*u_1**2 + tau**2))/(u_1**2 + u_2**2 + tau**2),\n",
    "    ((t_1 - t_2)**2 * (2*u_1**2 + tau**2))/(sqrt(2)*(u_1**2 + u_2**2 + tau**2)**2) + (u_2**2 - u_1**2)/(sqrt(2)*(u_1**2 + u_2**2 + tau**2))\n",
    "])\n",
    "simplify(g_inv_sqrt/K_norm*Matrix([K_norm.diff(t_1),K_norm.diff(u_1)]) - H_10_tilde_by_hand)"
   ]
  },
  {
   "cell_type": "markdown",
   "id": "fb4ef971-392b-40da-8bfb-41e25fdb98bb",
   "metadata": {
    "jp-MarkdownHeadingCollapsed": true
   },
   "source": [
    "# VI. Bounds for $K_{norm}$ when $d(x,x')$ is large\n",
    "\n",
    "Let $\\Delta>0$. Let $x,x' \\in \\mathbb{R} \\times [u_{min},+\\infty)$. Assume that $\\tau \\leq u_{min}$ and that $d(x,x')\\geq \\Delta$. We aim to provide an upper bound on $\\max_{(i,j)\\in \\{0,1\\} \\times \\{0,1,2\\}} \\|K_{norm}^{(ij)}(x,x')\\|_{x,x'}$.   \n",
    "\n",
    "**Content**\n",
    "\n",
    "* We calculate $\\tilde H^{ij}(x,x')= \\sqrt{K_{norm}(x,x')}^{-1}H^{ij}(x,x')$ for $(i,j)\\in \\{0,1\\} \\times \\{0,1,2\\}$.\n",
    "* We compare the bounds obtained.\n",
    "* We provide quantities useful to deal with dimension $d\\geq 1$."
   ]
  },
  {
   "cell_type": "markdown",
   "id": "9fac6de4-d2f0-4c62-94bd-8cc4f7aed515",
   "metadata": {},
   "source": [
    "## VI.1. Calculating $\\tilde H^{ij}(x,x')$"
   ]
  },
  {
   "cell_type": "code",
   "execution_count": 50,
   "id": "275df1cc-f2a7-45ce-8a80-c6be56035dac",
   "metadata": {},
   "outputs": [],
   "source": [
    "t_1 , t_2, tau=symbols(\"t t' tau\", real=True)\n",
    "u_1, u_2=symbols(\"u u'\", positive=True)\n",
    "K_norm=(2*u_1**2+tau**2)**Rational(1, 4)*(2*u_2**2+tau**2)**Rational(1, 4)*1/sqrt(u_1**2+u_2**2+tau**2)*exp(-(t_1-t_2)**2/(2*(u_1**2+u_2**2+tau**2)))\n",
    "\n",
    "g_tt=diff(K_norm,t_1,t_2).subs({u_2:u_1,t_2:t_1})\n",
    "g_uu=diff(K_norm,u_1,u_2).subs({u_2:u_1,t_2:t_1})\n",
    "g_inv_sqrt=Matrix([[sqrt(1/g_tt),0],[0,sqrt(1/g_uu)]])\n",
    "\n",
    "christoffel_symbols_t=Matrix([[0,-2*u_1/(tau**2+2*u_1**2)],[-2*u_1/(tau**2+2*u_1**2),0]])\n",
    "christoffel_symbols_u=Matrix([[1/u_1,0],[0,(tau**2-2*u_1**2)/((tau**2+2*u_1**2)*u_1)]])"
   ]
  },
  {
   "cell_type": "markdown",
   "id": "95ffb9b4-1d35-4542-aeb3-fc3346eb19f9",
   "metadata": {},
   "source": [
    "**$\\tilde{H}^{10}(x,x')$**: see [the above section](#calculation_tilde_h_10).\n",
    "\n",
    "We showed that $$\\mathfrak{g}_{x}^{-1/2}K_{norm}(x,x')^{-1}\\nabla_1 K_{norm}(x,x')=\\begin{pmatrix}\n",
    "     - \\frac{(t-t') \\sqrt{2u^2+\\tau^2}}{u^2+u'^2+\\tau^2}\n",
    "      \\\\  \\frac{(t-t')^2 (2u^2+\\tau^2)}{\\sqrt{2}(u^2+u'^2+\\tau^2)^2}+  \\frac{u'^2-u^2}{\\sqrt{2}(u^2+u'^2+\\tau^2)}\n",
    "\\end{pmatrix} \\,.$$"
   ]
  },
  {
   "cell_type": "markdown",
   "id": "ab6040cc-adfb-4fee-8363-7938c7a55f98",
   "metadata": {},
   "source": [
    "**$\\tilde H^{11}(x,x')$**\n",
    "\n",
    "We show that \n",
    "$K_{norm}(x,x')^{-1}\\mathfrak{g}_x^{-1/2}\\nabla_1\\nabla_2 K_{norm}(x,x')\\mathfrak{g}_{x'}^{-1/2}=\\begin{pmatrix}\n",
    "    \\tilde H_{tt'}^{11}(x,x') &  \\tilde H_{tu'}^{11}(x,x') \\\\\n",
    "     \\tilde H_{ut'}^{11}(x,x') &  \\tilde H_{uu'}^{11}(x,x')\n",
    "\\end{pmatrix}$ where \n",
    "$$\\tilde H_{tt'}^{11}(x,x')=\\frac{\\sqrt{2u^2+\\tau^2}\\sqrt{2u'^2+\\tau^2}}{u^2+u'^2+\\tau^2}- \\frac{(t-t')^2 \\sqrt{2u^2+\\tau^2}\\sqrt{2u'^2+\\tau^2}}{(u^2+u'^2+\\tau^2)^2}\\,, $$\n",
    "$$\\tilde H_{ut'}^{11}(x,x')=\\tilde H_{tu'}^{11}(x',x)=\\frac{-(t-t')^3 u'(2u^2+\\tau^2)\\sqrt{2u'^2+\\tau^2}}{\\sqrt{2}u(u^2+u'^2+\\tau^2)^3}+\\frac{\\sqrt{2}(t-t') u'(2u^2+\\tau^2)\\sqrt{2u'^2+\\tau^2}}{u(u^2+u'^2+\\tau^2)^2}+\\frac{(t-t') u'(u'^2-u^2)(2u^2+\\tau^2)}{\\sqrt{2}u\\sqrt{2u'^2+\\tau^2}(u^2+u'^2+\\tau^2)^2} \\,,$$\n",
    "$$\\tilde H_{uu'}^{11}(x,x')=  \\frac{(t-t')^4 (2u^2+\\tau^2)(2u'^2+\\tau^2)}{2(u^2+u'^2+\\tau^2)^4}+\\frac{-2(t-t')^2(2u^2+\\tau^2)(2u'^2+\\tau^2)}{(u^2+u'^2+\\tau^2)^3}+\\frac{(t-t')^2(u'^2-u^2)^2}{(u^2+u'^2+\\tau^2)^3} + \\frac{(2u^2+\\tau^2)(2u'^2+\\tau^2)}{(u^2+u'^2+\\tau^2)^2} - \\frac{(u^2-u'^2)^2}{2(u^2+u'^2+\\tau^2)^2}\\,.$$"
   ]
  },
  {
   "cell_type": "code",
   "execution_count": 51,
   "id": "1e25a076-3cf6-47f7-8e6c-23da241125ae",
   "metadata": {},
   "outputs": [
    {
     "data": {
      "image/png": "[encoded data removed]",
      "text/latex": [
       "$\\displaystyle \\left[\\begin{matrix}0 & 0\\\\0 & 0\\end{matrix}\\right]$"
      ],
      "text/plain": [
       "⎡0  0⎤\n",
       "⎢    ⎥\n",
       "⎣0  0⎦"
      ]
     },
     "execution_count": 51,
     "metadata": {},
     "output_type": "execute_result"
    }
   ],
   "source": [
    "nabla_1_2_K=Matrix([[diff(K_norm,t_2,t_1),diff(K_norm,t_2,u_1)],[diff(K_norm,u_2,t_1),diff(K_norm,u_2,u_1)]])\n",
    "H_11_tilde=simplify(g_inv_sqrt*nabla_1_2_K/K_norm*g_inv_sqrt.subs({t_1:t_2,u_1:u_2}))\n",
    "\n",
    "H_11_tilde_tt_by_hand=(\n",
    "    (sqrt(2*u_1**2+tau**2)*sqrt(2*u_2**2+tau**2))/(u_1**2+u_2**2+tau**2) -\n",
    "    ((t_1-t_2)**2*sqrt(2*u_1**2+tau**2)*sqrt(2*u_2**2+tau**2))/(u_1**2+u_2**2+tau**2)**2\n",
    ")\n",
    "\n",
    "H_11_tilde_ut_by_hand=(\n",
    "    (-(t_1 - t_2)**3 * u_2 * (2 * u_1**2 + tau**2) * sqrt(2 * u_2**2 + tau**2)) /\n",
    "    (sqrt(2) * u_1 * (u_1**2 + u_2**2 + tau**2)**3) +\n",
    "    \n",
    "    (sqrt(2) * (t_1 - t_2) * u_2 * (2 * u_1**2 + tau**2) * (2 * u_2**2 + tau**2)) /\n",
    "    (u_1 * (u_1**2 + u_2**2 + tau**2)**2 * sqrt(2 * u_2**2 + tau**2)) +\n",
    "    \n",
    "    ((t_1 - t_2) * u_2 * (u_2**2 - u_1**2) * (2 * u_1**2 + tau**2)) /\n",
    "    (sqrt(2) * u_1 * sqrt(2 * u_2**2 + tau**2) * (u_1**2 + u_2**2 + tau**2)**2)\n",
    ")\n",
    "\n",
    "t_3,u_3=symbols(\"t_3 u_3\",real=True)\n",
    "H_11_tilde_tu_by_hand=H_11_tilde_ut_by_hand.subs({t_1:t_3, u_1:u_3, t_2:t_1, u_2:u_1}).subs({t_3:t_2, u_3:u_2})\n",
    "\n",
    "H_11_tilde_uu_by_hand=(\n",
    "    ((t_1 - t_2)**4 * (2 * u_1**2 + tau**2) * (2 * u_2**2 + tau**2)) /\n",
    "    (2 * (u_1**2 + u_2**2 + tau**2)**4) +\n",
    "    \n",
    "    (-2 * (t_1 - t_2)**2 * (2 * u_1**2 + tau**2) * (2 * u_2**2 + tau**2)) /\n",
    "    ((u_1**2 + u_2**2 + tau**2)**3) +\n",
    "    \n",
    "    ((t_1 - t_2)**2 * (u_2**2 - u_1**2)**2) /\n",
    "    ((u_1**2 + u_2**2 + tau**2)**3) +\n",
    "    \n",
    "    ((2 * u_1**2 + tau**2) * (2 * u_2**2 + tau**2)) /\n",
    "    ((u_1**2 + u_2**2 + tau**2)**2) -\n",
    "    \n",
    "    ((u_1**2 - u_2**2)**2) /\n",
    "    (2 * (u_1**2 + u_2**2 + tau**2)**2)\n",
    ")\n",
    "\n",
    "simplify(Matrix([[H_11_tilde_tt_by_hand,H_11_tilde_tu_by_hand],[H_11_tilde_ut_by_hand,H_11_tilde_uu_by_hand]])-H_11_tilde)"
   ]
  },
  {
   "cell_type": "markdown",
   "id": "b85746e7-723c-4271-837a-c913e853623f",
   "metadata": {},
   "source": [
    "**$\\tilde{H}^{02}(x,x')$**: see [the above section](#calculation_riemannian_hessian).\n",
    "\n",
    "We showed that \n",
    "$K_{norm}(x,x')^{-1}\\mathfrak{g}_{x'}^{-1/2}H^{\\mathfrak{g}}_2 K_{norm}(x,x') \\mathfrak{g}_{x'}^{-1/2}=\\begin{pmatrix}\n",
    "            \\tilde H_{t't'}^{02}(x,x') & \\tilde H_{t'u'}^{02}(x,x') \\\\\n",
    "            \\tilde H^{02}_{12}(x,x') & \\tilde H_{u'u'}^{02}(x,x') \n",
    "        \\end{pmatrix}$ where $\\tilde H_{t't'}^{02}(x,x')=-1$,\n",
    "$$\\tilde H_{t'u'}^{02}(x,x')=\\frac{(t-t')^3 (2u'^2+\\tau^2)^{3/2}}{\\sqrt{2}(u^2 + u'^2 + \\tau^2)^3}- \\frac{3(t-t')(2u'^2+\\tau^2)^{1/2} (u'^2-u^2)}{\\sqrt{2}(u^2 + u'^2 + \\tau^2)^2}\\,, $$\n",
    "   $$ \\tilde H_{u'u'}^{02}(x,x')=\\frac{(t-t')^4 (2u'^2+\\tau^2)^{2}}{2(u^2+u'^2+\\tau^2)^4}+ \\frac{3(t-t')^2 (2u'^2+\\tau^2)(u^2-u'^2)}{(u^2+u'^2+\\tau^2)^3}+\\frac{(u^2-u'^2)^2}{2(u^2+u'^2+\\tau^2)^2}-\\frac{(2u^2+\\tau^2)(2u'^2+\\tau^2)}{(u^2+u'^2+\\tau^2)^2}\\,. $$  "
   ]
  },
  {
   "cell_type": "markdown",
   "id": "a74b27ac-768c-4154-b7a6-6464201f7913",
   "metadata": {},
   "source": [
    "**$\\tilde H^{12}(x,x')$**\n",
    "\n",
    "We denote $H^{12,1}(x,x')=\\mathfrak{g}_{tt}^{-1/2} \\mathfrak{g}_{x'}^{-1/2} \\partial_t H_2^{\\mathfrak{g}} K_{norm}(x,x') \\mathfrak{g}_{x'}^{-1/2}$ and \n",
    "$H^{12,2}(x,x')=\\mathfrak{g}_{uu}^{-1/2} \\mathfrak{g}_{x'}^{-1/2} \\partial_u H_2^{\\mathfrak{g}} K_{norm}(x,x') \\mathfrak{g}_{x'}^{-1/2}\\,.$ \n",
    "\n",
    "We find \n",
    "$\\tilde H^{12,1}=K_{norm}(x,x')\\begin{pmatrix}\n",
    "\\tilde H_{t't'}^{12,1}(x,x') &\\tilde H_{t'u'}^{12,1}(x,x') \\\\\n",
    "\\tilde H_{t'u'}^{12,1}(x,x')&\\tilde H_{u'u'}^{12,1}(x,x')\n",
    "\\end{pmatrix}$\n",
    "with \n",
    "$$\\tilde H_{t't'}^{12,1}(x,x')=\\frac{(t-t')\\sqrt{2u^2+\\tau^2}}{u^2+u'^2+\\tau^2}\\,, $$\n",
    "$$\\tilde H_{t'u'}^{12,1}(x,x') =\\frac{3 (t-t')^2 \\sqrt{2u^2+\\tau^2}(2u'^2+\\tau^2)^{3/2}}{\\sqrt{2}(u^2+u'^2+\\tau^2)^3} -\\frac{ (t-t')^4 \\sqrt{2u^2+\\tau^2}(2u'^2+\\tau^2)^{3/2}}{\\sqrt{2}(u^2+u'^2+\\tau^2)^4}\n",
    "     +\\frac{3 (t-t')^2 \\sqrt{2u^2+\\tau^2}\\sqrt{2u'^2+\\tau^2}(u'^2-u^2)}{\\sqrt{2}(u^2+u'^2+\\tau^2)^3} + \\frac{ 3\\sqrt{2u^2+\\tau^2}\\sqrt{2u'^2+\\tau^2}(u^2-u'^2)}{\\sqrt{2}(u^2+u'^2+\\tau^2)^2}\\,,$$\n",
    "$$\\tilde H_{u'u'}^{12,1}(x,x')=\\frac{-(t-t')^5(2u'^2+\\tau^2)^2\\sqrt{2u^2+\\tau^2}}{2(u^2+u'^2+\\tau^2)^5}+\\frac{2(t-t')^3(2u'^2+\\tau^2)^2\\sqrt{2u^2+\\tau^2}}{(u^2+u'^2+\\tau^2)^4} +\\frac{3(t-t')^3 (u'^2-u^2)(2u'^2+\\tau^2)\\sqrt{2u^2+\\tau^2}}{(u^2+u'^2+\\tau^2)^4} -\\frac{(t-t')\\sqrt{2u^2+\\tau^2}(u^2-u'^2)^2}{2(u^2+u'^2+\\tau^2)^3}+ \\frac{(t-t')(2u'^2+\\tau^2)(2u^2+\\tau^2)^{3/2}}{(u^2+u'^2+\\tau^2)^3}  +\\frac{6(t-t')(2u'^2+\\tau^2)(u^2-u'^2)\\sqrt{2u^2+\\tau^2}}{(u^2+u'^2+\\tau^2)^3}\\,.$$\n",
    "\n",
    "We also have $\\tilde H^{12,2}=K_{norm}(x,x')\\begin{pmatrix}\n",
    "\\tilde H_{t't'}^{12,2}(x,x') &\\tilde H_{t'u'}^{12,2}(x,x') \\\\\n",
    "\\tilde H_{t'u'}^{12,2}(x,x')&\\tilde H_{u'u'}^{12,2}(x,x')\n",
    "\\end{pmatrix}$\n",
    "with \n",
    "$$\\tilde H_{t't'}^{12,2}(x,x')=\\frac{-(t-t')^2(2u^2+\\tau^2)}{\\sqrt{2}(u^2+u'^2+\\tau^2)^2}+\\frac{u^2-u'^2}{\\sqrt{2}(u^2+u'^2+\\tau^2)}\\,, $$\n",
    "$$\\tilde H_{t'u'}^{12,2}(x,x')=\\frac{(t-t')^5(2u'^2+\\tau^2)^{3/2}(2u^2+\\tau^2)}{2(u^2+u'^2+\\tau^2)^5} +\\frac{(t-t')^3(2u'^2+\\tau^2)^{1/2}(2u^2+\\tau^2)(u^2-u'^2)}{(u^2+u'^2+\\tau^2)^4} -\\frac{4(t-t')^3(2u'^2+\\tau^2)^{3/2}(2u^2+\\tau^2)}{(u^2+u'^2+\\tau^2)^4}+\\frac{(t-t')^3(2u'^2+\\tau^2)^{1/2}}{(u^2+u'^2+\\tau^2)^2} \\quad +\\frac{3(t-t')(2u'^2+\\tau^2)^{1/2}(2u^2+\\tau^2)^2}{(u^2+u'^2+\\tau^2)^3}+\\frac{21(t-t')(2u'^2+\\tau^2)^{1/2}(2u^2+\\tau^2)(u'^2-u^2)}{2(u^2+u'^2+\\tau^2)^3}  +\\frac{3(t-t')(2u'^2+\\tau^2)^{1/2}(u^2-u'^2)}{2(u^2+u'^2+\\tau^2)^2}\\,,$$\n",
    "$$\\tilde H_{u'u'}^{12,2}(x,x')=\\frac{\\sqrt{2}(t-t')^6(2u'^2+\\tau^2)^{2}(2u^2+\\tau^2)}{4(u^2+u'^2+\\tau^2)^6} +\\frac{5\\sqrt{2}(t-t')^4(2u'^2+\\tau^2)(2u^2+\\tau^2)(u^2-u'^2)}{4(u^2+u'^2+\\tau^2)^5} -\\frac{2\\sqrt{2}(t-t')^4(2u'^2+\\tau^2)^2(2u^2+\\tau^2)}{(u^2+u'^2+\\tau^2)^5}+\\frac{\\sqrt{2}(t-t')^4(2u'^2+\\tau^2)(u^2-u'^2)^2}{2(u^2+u'^2+\\tau^2)^5}-\\frac{5\\sqrt{2}(t-t')^2(2u'^2+\\tau^2)(u^2-u'^2)^2}{4(u^2+u'^2+\\tau^2)^4}+\\frac{5\\sqrt{2}(t-t')^2(2u^2+\\tau^2)(2u'^2+\\tau^2)^2}{2(u^2+u'^2+\\tau^2)^4}  +\\frac{\\sqrt{2}(t-t')^2(u^2-u'^2)^3}{2(u^2+u'^2+\\tau^2)^4}-\\frac{7\\sqrt{2}(t-t')^2(2u^2+\\tau^2)(2u'^2+\\tau^2)(u^2-u'^2)}{(u^2+u'^2+\\tau^2)^4} +\\frac{7\\sqrt{2}(2u'^2+\\tau^2)(2u^2+\\tau^2)(u^2-u'^2)}{2(u^2+u'^2+\\tau^2)^3}-\\frac{\\sqrt{2}(u^2-u'^2)^3}{4(u^2+u'^2+\\tau^2)^3} \\,.$$"
   ]
  },
  {
   "cell_type": "code",
   "execution_count": 52,
   "id": "08f9761c-f1ef-44ee-848a-4a9f59b5d84c",
   "metadata": {},
   "outputs": [
    {
     "data": {
      "image/png": "[encoded data removed]",
      "text/latex": [
       "$\\displaystyle \\left[\\begin{matrix}0 & 0\\\\0 & 0\\end{matrix}\\right]$"
      ],
      "text/plain": [
       "⎡0  0⎤\n",
       "⎢    ⎥\n",
       "⎣0  0⎦"
      ]
     },
     "execution_count": 52,
     "metadata": {},
     "output_type": "execute_result"
    }
   ],
   "source": [
    "riemannian_hessian_K=simplify(hessian(K_norm, (t_2,u_2))-christoffel_symbols_t_2*diff(K_norm,t_2)-christoffel_symbols_u_2*diff(K_norm,u_2))\n",
    "H_12_1_tilde=g_inv_sqrt[0,0]*g_inv_sqrt.subs({t_1:t_2,u_1:u_2})*riemannian_hessian_K.diff(t_1)*g_inv_sqrt.subs({t_1:t_2,u_1:u_2})/K_norm\n",
    "\n",
    "H_12_1_tilde_tt_by_hand=(t_1-t_2)*sqrt(2*u_1**2+tau**2)/(u_1**2+u_2**2+tau**2)\n",
    "\n",
    "H_12_1_tilde_tu_by_hand=(\n",
    "    (3 * (t_1 - t_2)**2 * sqrt(2 * u_1**2 + tau**2) * (2 * u_2**2 + tau**2)**Rational(3,2)) /\n",
    "    (sqrt(2) * (u_1**2 + u_2**2 + tau**2)**3) -\n",
    "    \n",
    "    ((t_1 - t_2)**4 * sqrt(2 * u_1**2 + tau**2) * (2 * u_2**2 + tau**2)**Rational(3,2)) /\n",
    "    (sqrt(2) * (u_1**2 + u_2**2 + tau**2)**4) +\n",
    "    \n",
    "    (3 * (t_1 - t_2)**2 * sqrt(2 * u_1**2 + tau**2) * sqrt(2 * u_2**2 + tau**2) * (u_2**2 - u_1**2)) /\n",
    "    (sqrt(2) * (u_1**2 + u_2**2 + tau**2)**3) +\n",
    "    \n",
    "    (3 * sqrt(2 * u_1**2 + tau**2) * sqrt(2 * u_2**2 + tau**2) * (u_1**2 - u_2**2)) /\n",
    "    (sqrt(2) * (u_1**2 + u_2**2 + tau**2)**2)\n",
    ")\n",
    "\n",
    "H_12_1_tilde_uu_by_hand=(\n",
    "    (-(t_1 - t_2)**5 * (2 * u_2**2 + tau**2)**2 * sqrt(2 * u_1**2 + tau**2)) /\n",
    "    (2 * (u_1**2 + u_2**2 + tau**2)**5) +\n",
    "    \n",
    "    (2 * (t_1 - t_2)**3 * (2 * u_2**2 + tau**2)**2 * sqrt(2 * u_1**2 + tau**2)) /\n",
    "    ((u_1**2 + u_2**2 + tau**2)**4) +\n",
    "    \n",
    "    (3 * (t_1 - t_2)**3 * (u_2**2 - u_1**2) * (2 * u_2**2 + tau**2) * sqrt(2 * u_1**2 + tau**2)) /\n",
    "    ((u_1**2 + u_2**2 + tau**2)**4) -\n",
    "    \n",
    "    ((t_1 - t_2) * sqrt(2 * u_1**2 + tau**2) * (u_1**2 - u_2**2)**2) /\n",
    "    (2 * (u_1**2 + u_2**2 + tau**2)**3) +\n",
    "    \n",
    "    ((t_1 - t_2) * (2 * u_2**2 + tau**2) * (2 * u_1**2 + tau**2)**Rational(3,2)) /\n",
    "    ((u_1**2 + u_2**2 + tau**2)**3) +\n",
    "    \n",
    "    (6 * (t_1 - t_2) * (2 * u_2**2 + tau**2) * (u_1**2 - u_2**2) * sqrt(2 * u_1**2 + tau**2)) /\n",
    "    ((u_1**2 + u_2**2 + tau**2)**3)\n",
    ")\n",
    "\n",
    "simplify(Matrix([[H_12_1_tilde_tt_by_hand,H_12_1_tilde_tu_by_hand],[H_12_1_tilde_tu_by_hand,H_12_1_tilde_uu_by_hand]])-H_12_1_tilde)"
   ]
  },
  {
   "cell_type": "code",
   "execution_count": 53,
   "id": "16bee7a0-e656-44f6-98d9-45ee5937080b",
   "metadata": {},
   "outputs": [
    {
     "data": {
      "image/png": "[encoded data removed]",
      "text/latex": [
       "$\\displaystyle \\left[\\begin{matrix}0 & 0\\\\0 & 0\\end{matrix}\\right]$"
      ],
      "text/plain": [
       "⎡0  0⎤\n",
       "⎢    ⎥\n",
       "⎣0  0⎦"
      ]
     },
     "execution_count": 53,
     "metadata": {},
     "output_type": "execute_result"
    }
   ],
   "source": [
    "H_12_2_tilde=g_inv_sqrt[1,1]*g_inv_sqrt.subs({t_1:t_2,u_1:u_2})*riemannian_hessian_K.diff(u_1)*g_inv_sqrt.subs({t_1:t_2,u_1:u_2})/K_norm\n",
    "\n",
    "H_12_2_tilde_tt_by_hand=-((t_1-t_2)**2*(2*u_1**2+tau**2))/(sqrt(2)*(u_1**2+u_2**2+tau**2)**2)+(u_1**2-u_2**2)/(sqrt(2)*(u_1**2+u_2**2+tau**2))\n",
    "\n",
    "H_12_2_tilde_tu_by_hand=(\n",
    "    ((t_1 - t_2)**5 * (2 * u_2**2 + tau**2)**Rational(3,2) * (2 * u_1**2 + tau**2)) /\n",
    "    (2 * (u_1**2 + u_2**2 + tau**2)**5) +\n",
    "    \n",
    "    ((t_1 - t_2)**3 * (2 * u_2**2 + tau**2)**Rational(1,2) * (2 * u_1**2 + tau**2) * (u_1**2 - u_2**2)) /\n",
    "    ((u_1**2 + u_2**2 + tau**2)**4) -\n",
    "    \n",
    "    (4 * (t_1 - t_2)**3 * (2 * u_2**2 + tau**2)**Rational(3,2) * (2 * u_1**2 + tau**2)) /\n",
    "    ((u_1**2 + u_2**2 + tau**2)**4) +\n",
    "    \n",
    "    ((t_1 - t_2)**3 * (2 * u_2**2 + tau**2)**Rational(1,2)) /\n",
    "    ((u_1**2 + u_2**2 + tau**2)**2) +\n",
    "    \n",
    "    (3 * (t_1 - t_2) * (2 * u_2**2 + tau**2)**Rational(1,2) * (2 * u_1**2 + tau**2)**2) /\n",
    "    ((u_1**2 + u_2**2 + tau**2)**3) +\n",
    "    \n",
    "    (21 * (t_1 - t_2) * (2 * u_2**2 + tau**2)**Rational(1,2) * (2 * u_1**2 + tau**2) * (u_2**2 - u_1**2)) /\n",
    "    (2 * (u_1**2 + u_2**2 + tau**2)**3) +\n",
    "    \n",
    "    (3 * (t_1 - t_2) * (2 * u_2**2 + tau**2)**Rational(1,2) * (u_1**2 - u_2**2)) /\n",
    "    (2 * (u_1**2 + u_2**2 + tau**2)**2)\n",
    ")\n",
    "\n",
    "H_12_2_tilde_uu_by_hand=(\n",
    "    (sqrt(2) * (t_1 - t_2)**6 * (2 * u_2**2 + tau**2)**2 * (2 * u_1**2 + tau**2)) /\n",
    "    (4 * (u_1**2 + u_2**2 + tau**2)**6) +\n",
    "    \n",
    "    (5 * sqrt(2) * (t_1 - t_2)**4 * (2 * u_2**2 + tau**2) * (2 * u_1**2 + tau**2) * (u_1**2 - u_2**2)) /\n",
    "    (4 * (u_1**2 + u_2**2 + tau**2)**5) -\n",
    "    \n",
    "    (2 * sqrt(2) * (t_1 - t_2)**4 * (2 * u_2**2 + tau**2)**2 * (2 * u_1**2 + tau**2)) /\n",
    "    ((u_1**2 + u_2**2 + tau**2)**5) +\n",
    "    \n",
    "    (sqrt(2) * (t_1 - t_2)**4 * (2 * u_2**2 + tau**2) * (u_1**2 - u_2**2)**2) /\n",
    "    (2 * (u_1**2 + u_2**2 + tau**2)**5) -\n",
    "    \n",
    "    (5 * sqrt(2) * (t_1 - t_2)**2 * (2 * u_2**2 + tau**2) * (u_1**2 - u_2**2)**2) /\n",
    "    (4 * (u_1**2 + u_2**2 + tau**2)**4) +\n",
    "    \n",
    "    (5 * sqrt(2) * (t_1 - t_2)**2 * (2 * u_1**2 + tau**2) * (2 * u_2**2 + tau**2)**2) /\n",
    "    (2 * (u_1**2 + u_2**2 + tau**2)**4) +\n",
    "    \n",
    "    (sqrt(2) * (t_1 - t_2)**2 * (u_1**2 - u_2**2)**3) /\n",
    "    (2 * (u_1**2 + u_2**2 + tau**2)**4) -\n",
    "    \n",
    "    (7 * sqrt(2) * (t_1 - t_2)**2 * (2 * u_1**2 + tau**2) * (2 * u_2**2 + tau**2) * (u_1**2 - u_2**2)) /\n",
    "    ((u_1**2 + u_2**2 + tau**2)**4) +\n",
    "    \n",
    "    (7 * sqrt(2) * (2 * u_2**2 + tau**2) * (2 * u_1**2 + tau**2) * (u_1**2 - u_2**2)) /\n",
    "    (2 * (u_1**2 + u_2**2 + tau**2)**3) -\n",
    "    \n",
    "    (sqrt(2) * (u_1**2 - u_2**2)**3) /\n",
    "    (4 * (u_1**2 + u_2**2 + tau**2)**3)\n",
    ")\n",
    "\n",
    "simplify(Matrix([[H_12_2_tilde_tt_by_hand,H_12_2_tilde_tu_by_hand],[H_12_2_tilde_tu_by_hand,H_12_2_tilde_uu_by_hand]])-H_12_2_tilde)"
   ]
  },
  {
   "cell_type": "markdown",
   "id": "222b1819-3100-4f27-999e-d755a30bb782",
   "metadata": {},
   "source": [
    "## VI.2. Bound for $\\| K_{norm}^{(12)}(x,x')\\|_{x,x'}$, comparison of the bounds found for $\\| K_{norm}^{(ij)}(x,x')\\|_{x,x'}$\n",
    "\n",
    "We showed that \n",
    "$$\n",
    "\\| H^{12,1}(x,x')\\|_2 \\leq \\sqrt{\\frac{4}{e} + 2\\left( \\frac{18\\sqrt{2}}{e}+\\sqrt{2}\\frac{64}{e^2}+ \\frac{3}{\\sqrt{2}}\\right)^2+ \\left(\\sqrt{2}\\left(\\frac{10}{e} \\right)^{5/2} + 7 \\sqrt{2}\\left(\\frac{6}{e} \\right)^{3/2} +\\frac{15}{\\sqrt{e}}\\right)^2 }\n",
    "$$ \n",
    "\n",
    "and that \n",
    "\n",
    "$$\n",
    "\\|H^{12,2}(x,x')\\|_2\\leq \\sqrt{ \\left( \\frac{4\\sqrt{2}}{e}+1\\right)^2+ 2\\left(\\frac{1}{\\sqrt{2}}\\left(\\frac{10}{e} \\right)^{5/2}+ 6\\sqrt{2}\\left(\\frac{6}{e} \\right)^{3/2}+\\frac{36}{\\sqrt{e}} \\right)^2 + \\left(\\frac{432 \\sqrt{2}}{e^3} + \\frac{272\\sqrt{2}}{e^2} + \\frac{60\\sqrt{2}}{e}+ \\frac{15\\sqrt{2}}{4}\\right)^2}\\,.\n",
    "$$ \n",
    "\n",
    "We write the first bound as `bound1` and the second one as `bound2`. Here we show that `bound2` is greater than `bound1`."
   ]
  },
  {
   "cell_type": "code",
   "execution_count": 54,
   "id": "cbfd4ee2-a653-4e15-83bf-057bccf59377",
   "metadata": {},
   "outputs": [
    {
     "data": {
      "image/png": "[encoded data removed]",
      "text/latex": [
       "$\\displaystyle \\left[ 85.1737479863394, \\  153.041055498537\\right]$"
      ],
      "text/plain": [
       "[85.1737479863394, 153.041055498537]"
      ]
     },
     "execution_count": 54,
     "metadata": {},
     "output_type": "execute_result"
    }
   ],
   "source": [
    "bound1=sqrt(4/exp(1)+2*(18*sqrt(2)/exp(1)+sqrt(2)*64/exp(2)+3/sqrt(2))**2+(sqrt(2)*(10/exp(1))**(5/2)+7*sqrt(2)*(6/exp(1))**(3/2)+15/sqrt(exp(1)))**2)\n",
    "bound2=sqrt(\n",
    "    (4*sqrt(2)/exp(1)+1)**2 +\n",
    "    2*(1/sqrt(2)*(10/exp(1))**(5/2) + 6*sqrt(2)*(6/exp(1))**(3/2) + 36/sqrt(exp(1)))**2 +\n",
    "    (432*sqrt(2)/exp(3) + 272*sqrt(2)/exp(2) + 60*sqrt(2)/exp(1) + 15*sqrt(2)/4)**2\n",
    ")\n",
    "[bound1.evalf(),bound2.evalf()]"
   ]
  },
  {
   "cell_type": "markdown",
   "id": "0f8c9521-bf6f-467b-baba-c2b28f14ca5c",
   "metadata": {},
   "source": [
    "We show that the bounds obtained for $\\|K_{norm}^{(ij)}(x,x')\\|_{x,x'}$, $(i,j)\\in \\{0,1\\} \\times \\{0,1,2\\}$ are smaller than the one obtained for $\\|K_{norm}^{(12)}(x,x')\\|_{x,x'}$ (namely $\\sqrt{2}\\times 153.05\\times e^{-\\frac{\\Delta^2}{4}}=:$ `B_H_12` $\\times e^{-\\frac{\\Delta^2}{4}}$).\n",
    "\n",
    "We compare with $\\sqrt{2}\\times 153.05$:\n",
    "* $\\sqrt{\\frac{4}{e} + \\left(\\frac{4\\sqrt{2}}{e}+\\frac{1}{\\sqrt{2}} \\right)^2}=:$ `B_H_10` (corresponding to $i=1,j=0$)\n",
    "* $\\sqrt{\\left(1+\\frac{4}{e} \\right)^2+ 2\\left(\\frac{\\sqrt{3}}{\\sqrt{2}}\\left(\\frac{6}{e} \\right)^{3/2} + \\frac{3\\sqrt{3}}{\\sqrt{e}} \\right)^2+\\left( \\frac{32}{e^2} +\\frac{12}{e}+\\frac{3}{2}\\right)^2 }=:$ `B_H_11` (for $i=j=1$)\n",
    "* $\\sqrt{1+2 \\left( 3\\frac{\\sqrt{2}}{\\sqrt{e}} +2 \\left(\\frac{6}{e} \\right)^{3/2}\\right)^2 +  \\left( \\frac{128}{e^2}+\\frac{24}{e} +\\frac{3}{2} \\right)^2}=:$ `B_H_02`  (for $i=0,j=2$)."
   ]
  },
  {
   "cell_type": "code",
   "execution_count": 55,
   "id": "15d2ccbb-32cf-4798-9393-a6a44b559f30",
   "metadata": {},
   "outputs": [
    {
     "data": {
      "text/latex": [
       "$\\displaystyle B_{H_{12}} = 216.445385721202, B_{H_{10}} = 3.04060559060673, B_{H_{11}} = 14.6230557505879, B_{H_{02}} = 30.5355443089820$"
      ],
      "text/plain": [
       "<IPython.core.display.Math object>"
      ]
     },
     "metadata": {},
     "output_type": "display_data"
    }
   ],
   "source": [
    "B_H_12=sqrt(2)*153.05\n",
    "B_H_10=sqrt(4/exp(1)+(4*sqrt(2)/exp(1)+1/sqrt(2))**2)\n",
    "B_H_11=sqrt(\n",
    "    (1+4/exp(1))**2 +\n",
    "    2*(sqrt(3)/sqrt(2)*(6/exp(1))**(3/2) + 3*sqrt(3)/sqrt(exp(1)))**2 +\n",
    "    (32/exp(2) + 12/exp(1) + 3/2)**2\n",
    ")\n",
    "B_H_02=sqrt(\n",
    "    1 +\n",
    "    2*(3*sqrt(2)/sqrt(exp(1)) + 2*(6/exp(1))**(3/2))**2 +\n",
    "    (128/exp(2) + 24/exp(1) + 3/2)**2\n",
    ")\n",
    "\n",
    "display(Math(\"B_{H_{12}} = \" + str(B_H_12.evalf()) + \", B_{H_{10}} = \" + str(B_H_10.evalf()) + \", B_{H_{11}} = \" + str(B_H_11.evalf()) + \", B_{H_{02}} = \" + str(B_H_02.evalf())))"
   ]
  },
  {
   "cell_type": "markdown",
   "id": "44128fa4-c0ce-48a4-900a-a8e26ab92a17",
   "metadata": {},
   "source": [
    "## VI.3. Dimension $d\\geq 1$\n",
    "\n",
    "In the following, we compare the bounds found for $\\| K_{norm}^{(ij)}(x,x')\\|_{x,x'}$ in dimension $d\\geq 1$.\n",
    "\n",
    "We denote by $B_{H_{b_k b_k}^{(ij)}}$ or $B_{H_{b_k' b_k'}^{(ij)}}$, etc., $i,j\\in \\{0,1\\}\\times\\{0,1,2\\}$ the bound we obtained for the coefficient of $|H^{ij}(x_k,x_k')|$ (in dimension $1$) corresponding to the derivatives in $b_k,b_k$ or $b_k',b_k'$, etc.\n",
    "These bounds do not depend on a separation between $x$ and $x'$ (i.e. do not depend on $\\Delta$). They allow us to express the bounds of $\\| K_{norm}^{(ij)}(x,x')\\|_{x,x'}$ in dimension $d\\geq 1$.\n",
    "\n",
    "**Remark**\n",
    "\n",
    "* We calculate the quantities relevant to the proof.\n",
    "We detail the global strategy used below to go from a bound of the form \n",
    "$$a\\sqrt{d^2b+cd}$$ \n",
    "where $a,b,c>0$ to a simpler bound of the form \n",
    "$$\\alpha d + \\beta.$$ \n",
    "Remark that with $a_1,b_1,c_1$ upper bounds on $a,b,c$, we have \n",
    "$$\\sqrt{d^2b+cd}\\leq \\sqrt{\\left(\\sqrt{b_1}d+\\frac{c_1}{2\\sqrt{b_1}}\\right)^2}= \\sqrt{b_1}d+\\frac{c_1}{2\\sqrt{b_1}}.$$ \n",
    "So \n",
    "$$a\\sqrt{d^2b+cd} \\leq \\alpha d + \\beta$$ \n",
    "where $\\alpha\\geq a_1\\sqrt{b_1}$ and $\\beta\\geq a_1\\frac{c_1}{2\\sqrt{b_1}}$."
   ]
  },
  {
   "cell_type": "code",
   "execution_count": 56,
   "id": "89acf7a1-0f5e-484c-af92-2b75206ded38",
   "metadata": {},
   "outputs": [],
   "source": [
    "d,Delta=symbols(\"d Delta\", real=True)\n",
    "\n",
    "B_H_10_t=(2/sqrt(exp(1))).evalf()\n",
    "B_H_10_u=(4*sqrt(2)/exp(1)+1/sqrt(2)).evalf()\n",
    "\n",
    "B_H_11_tt=(1+4/exp(1)).evalf()\n",
    "B_H_11_tu=(sqrt(3)/sqrt(2)*(6/exp(1))**(3/2) + 3*sqrt(3)/sqrt(exp(1))).evalf()\n",
    "B_H_11_ut=(sqrt(3)/sqrt(2)*(6/exp(1))**(3/2) + 3*sqrt(3)/sqrt(exp(1))).evalf()\n",
    "B_H_11_uu=(32/exp(2) + 12/exp(1) + 3/2).evalf()\n",
    "\n",
    "B_H_02_tt=1\n",
    "B_H_02_tu=(3*sqrt(2)/sqrt(exp(1)) + 2*(6/exp(1))**(3/2)).evalf()\n",
    "B_H_02_ut=(3*sqrt(2)/sqrt(exp(1)) + 2*(6/exp(1))**(3/2)).evalf()\n",
    "B_H_02_uu=(128/exp(2) + 24/exp(1) + 3/2).evalf()\n",
    "\n",
    "B_H_12_1_tt=(2/sqrt(exp(1))).evalf()\n",
    "B_H_12_1_tu=(18*sqrt(2)/exp(1)+sqrt(2)*64/exp(2)+3/sqrt(2)).evalf()\n",
    "B_H_12_1_ut=(18*sqrt(2)/exp(1)+sqrt(2)*64/exp(2)+3/sqrt(2)).evalf()\n",
    "B_H_12_1_uu=(sqrt(2)*(10/exp(1))**(5/2)+7*sqrt(2)*(6/exp(1))**(3/2)+15/sqrt(exp(1))).evalf()\n",
    "\n",
    "B_H_12_2_tt=(4*sqrt(2)/exp(1)+1).evalf()\n",
    "B_H_12_2_tu=(1/sqrt(2)*(10/exp(1))**(5/2) + 6*sqrt(2)*(6/exp(1))**(3/2) + 36/sqrt(exp(1))).evalf()\n",
    "B_H_12_2_ut=(1/sqrt(2)*(10/exp(1))**(5/2) + 6*sqrt(2)*(6/exp(1))**(3/2) + 36/sqrt(exp(1))).evalf()\n",
    "B_H_12_2_uu=(432*sqrt(2)/exp(3) + 272*sqrt(2)/exp(2) + 60*sqrt(2)/exp(1) + 15*sqrt(2)/4).evalf()"
   ]
  },
  {
   "cell_type": "markdown",
   "id": "cf135a3e-dbeb-4a8d-bb3e-276f7a68cd36",
   "metadata": {},
   "source": [
    "**$\\|K_{norm}^{(10)}(x,x')\\|_{x}$**\n",
    "\n",
    "We have \n",
    "$$\\|K_{norm}^{(10)}(x,x')\\|_{x}\\leq \\sqrt{d} \\sqrt{B_{H_{t_k}^{10}}^2+B_{H_{u_k}^{10}}^2}   e^{-\\Delta^2/4} \\leq 3.05\\sqrt{d}  e^{-\\Delta^2/4}\\,.$$"
   ]
  },
  {
   "cell_type": "code",
   "execution_count": 57,
   "id": "9b0cf9f1-29fb-4cde-9c30-7e1c7cfb5bb0",
   "metadata": {},
   "outputs": [
    {
     "data": {
      "image/png": "[encoded data removed]",
      "text/latex": [
       "$\\displaystyle 3.04060559060673 \\sqrt{d} e^{- \\frac{\\Delta^{2}}{4}}$"
      ],
      "text/plain": [
       "                       2 \n",
       "                     -Δ  \n",
       "                     ────\n",
       "                      4  \n",
       "3.04060559060673⋅√d⋅ℯ    "
      ]
     },
     "execution_count": 57,
     "metadata": {},
     "output_type": "execute_result"
    }
   ],
   "source": [
    "sqrt(d)*sqrt(B_H_10_t**2+B_H_10_u**2)*exp(-Delta**2/4)"
   ]
  },
  {
   "cell_type": "markdown",
   "id": "f68555a6-c3de-45e8-9c5f-1468479ea240",
   "metadata": {},
   "source": [
    "**$\\|K_{norm}^{(11)}(x,x')\\|_{x,x'}$**\n",
    "\n",
    "We have $$\\|K_{norm}^{(11)}(x,x')\\|_{x,x'}\\leq e^{-\\Delta^2/4} \\sqrt{ d(d-1)B_{H_{t_k}^{10}}^4+ d(d-1)B_{H_{u_k}^{10}}^4 + 2d(d-1)B_{H_{t_k}^{10}}^2B_{H_{u_k}^{10}}^2 +2dB_{H_{t_k,u_k'}^{11}}^2+ dB_{H_{t_k,t_k'}^{11}}^2+ dB_{H_{u_k,u_k'}^{11}}^2 }\\,.$$\n",
    "We show that this bound is smaller than $(9.25d+6.95)e^{-\\Delta^2/4}$."
   ]
  },
  {
   "cell_type": "code",
   "execution_count": 58,
   "id": "d21a012b-6940-455e-8ebf-02776196d1e1",
   "metadata": {},
   "outputs": [
    {
     "data": {
      "image/png": "[encoded data removed]",
      "text/latex": [
       "$\\displaystyle 14.6230557505879 \\sqrt{d \\left(0.399727555079345 d + 0.600272444920655\\right)} e^{- \\frac{\\Delta^{2}}{4}}$"
      ],
      "text/plain": [
       "                                                                    2 \n",
       "                                                                  -Δ  \n",
       "                                                                  ────\n",
       "                   _____________________________________________   4  \n",
       "14.6230557505879⋅╲╱ d⋅(0.399727555079345⋅d + 0.600272444920655) ⋅ℯ    "
      ]
     },
     "execution_count": 58,
     "metadata": {},
     "output_type": "execute_result"
    }
   ],
   "source": [
    "bound_sympy=exp(-Delta**2/4)*sqrt(d*(d-1)*B_H_10_t**4+d*(d-1)*B_H_10_u**4+2*d*(d-1)*B_H_10_t**2*B_H_10_u**2  +2*d*B_H_11_tu**2+d*B_H_11_tt**2+d*B_H_11_uu**2)\n",
    "simplify(bound_sympy)"
   ]
  },
  {
   "cell_type": "markdown",
   "id": "fb4f178f-9827-4d95-9015-9d2a1395dc5b",
   "metadata": {},
   "source": [
    "This bound is smaller than $(9.25d+6.95)e^{-\\Delta^2/4}$ (see the calculation below and the **remark** above)."
   ]
  },
  {
   "cell_type": "code",
   "execution_count": 59,
   "id": "aa073cbe-f921-4837-aaa1-9c6f2de91b7a",
   "metadata": {},
   "outputs": [
    {
     "data": {
      "image/png": "[encoded data removed]",
      "text/latex": [
       "$\\displaystyle \\left[ 9.24531547917204, \\  6.94186203947314\\right]$"
      ],
      "text/plain": [
       "[9.24531547917204, 6.94186203947314]"
      ]
     },
     "execution_count": 59,
     "metadata": {},
     "output_type": "execute_result"
    }
   ],
   "source": [
    "[sqrt(0.399728)*14.6231, 14.6231*0.600273/(2*sqrt(0.399728))]"
   ]
  },
  {
   "cell_type": "markdown",
   "id": "bd878308-e355-459d-b34f-c17c95b8a47f",
   "metadata": {},
   "source": [
    "**$\\|K_{norm}^{(02)}(x,x')\\|_{x'}$**\n",
    "\n",
    "We have\n",
    "$$\\|K_{norm}^{(02)}(x,x')\\|_{x'}\\leq e^{-\\Delta^2/4} \\sqrt{d(d-1) B_{H_{t_k}^{10}}^4+d(d-1) B_{H_{u_k}^{10}}^4+2d(d-1) B_{H_{t_k}^{10}}^2B_{H_{u_k}^{10}}^2  + 2dB_{H_{t_k'u_k'}^{02}}^2+dB_{H_{t_k't_k'}^{02}}^2+dB_{H_{u_k'u_k'}^{02}}^2}\\,.$$"
   ]
  },
  {
   "cell_type": "code",
   "execution_count": 60,
   "id": "802ca274-17fe-4bff-895a-8ef6f1cdb360",
   "metadata": {},
   "outputs": [
    {
     "data": {
      "image/png": "[encoded data removed]",
      "text/latex": [
       "$\\displaystyle 30.535544308982 \\sqrt{d \\left(0.0916703790156091 d + 0.908329620984391\\right)} e^{- \\frac{\\Delta^{2}}{4}}$"
      ],
      "text/plain": [
       "                                                                    2 \n",
       "                                                                  -Δ  \n",
       "                                                                  ────\n",
       "                  ______________________________________________   4  \n",
       "30.535544308982⋅╲╱ d⋅(0.0916703790156091⋅d + 0.908329620984391) ⋅ℯ    "
      ]
     },
     "execution_count": 60,
     "metadata": {},
     "output_type": "execute_result"
    }
   ],
   "source": [
    "bound_sympy=exp(-Delta**2/4)*sqrt(d*(d-1)*B_H_10_t**4+d*(d-1)*B_H_10_u**4+2*d*(d-1)*B_H_10_t**2*B_H_10_u**2  +2*d*B_H_02_tu**2+d*B_H_02_tt**2+d*B_H_02_uu**2)\n",
    "simplify(bound_sympy)"
   ]
  },
  {
   "cell_type": "markdown",
   "id": "ddc774c7-8853-4b0a-ac66-b76b66f20365",
   "metadata": {},
   "source": [
    "This bound is smaller than $(9.25d+45.9)e^{-\\Delta^2/4}$ (see the calculation below)."
   ]
  },
  {
   "cell_type": "code",
   "execution_count": 61,
   "id": "42572549-7fac-415c-a44d-593e72e75a83",
   "metadata": {},
   "outputs": [
    {
     "data": {
      "image/png": "[encoded data removed]",
      "text/latex": [
       "$\\displaystyle \\left[ 9.24533053350493, \\  45.8040769899888\\right]$"
      ],
      "text/plain": [
       "[9.24533053350493, 45.8040769899888]"
      ]
     },
     "execution_count": 61,
     "metadata": {},
     "output_type": "execute_result"
    }
   ],
   "source": [
    "[sqrt(0.091671)*30.5356, 30.5356*0.90833/(2*sqrt(0.091671))]"
   ]
  },
  {
   "cell_type": "markdown",
   "id": "249db2d3-95bc-442b-86eb-bc767ca0947b",
   "metadata": {},
   "source": [
    "**$\\|K_{norm}^{(12)}(x,x')\\|_{x,x'}$**\n",
    "\n",
    "We have $\\|K_{norm}^{(12)}(x,x')\\|_{x,x'}\\leq \\sqrt{2d}\\max_{b_k}\\|M_{b_k}\\|_2$.\n",
    "\n",
    "We showed that\n",
    "  $$ \\|M_{t_k}\\|_2 \\leq e^{-\\Delta^2/4} \n",
    "   \\left( \n",
    "   \\begin{aligned}\n",
    "      & \\max\\left\\{\\sqrt{B_{H_{t_k}^{10}}^2B_{H_{t_k't_k'}^{02}}^2 +2B_{H_{t_k}^{10}}^2B_{H_{t_k'u_k'}^{02}}^2 + B_{H_{t_k}^{10}}^2B_{H_{u_k'u_k'}^{02}}^2} \\,,\\, \\sqrt{2B_{H_{t_k',u_k'}^{12,1}}^2+ B_{H_{t_k',t_k'}^{12,1}}^2+ B_{H_{u_k',u_k'}^{12,1}}^2}\\right\\}  \n",
    "       \\\\& \\: \\: + \\sqrt{\n",
    "          \\begin{aligned}\n",
    "   &(d^2-3d+2)B_{H_{t_k}^{10}}^2\\left(B_{H_{t_k}^{10}}^4+2B_{H_{t_k}^{10}}^2B_{H_{u_k}^{10}}^2+ B_{H_{u_k}^{10}}^4 \\right) \\\\\n",
    "   & \\: \\: +2(d-1)\\left( B_{H_{t_kt_k'}^{11}}^2B_{H_{t_k}^{10}}^2 + B_{H_{t_kt_k'}^{11}}^2B_{H_{u_k}^{10}}^2 + B_{H_{t_ku_k'}^{11}}^2B_{H_{t_k}^{10}}^2+ B_{H_{t_ku_k'}^{11}}^2B_{H_{u_k}^{10}}^2\\right) \n",
    "   \\end{aligned}\n",
    "       }   \\end{aligned}\\right)\n",
    "$$\n",
    "and\n",
    "$$ \\|M_{u_k}\\|_2 \\leq e^{-\\Delta^2/4} \n",
    "   \\left( \n",
    "   \\begin{aligned}\n",
    "      & \\max\\left\\{\\sqrt{B_{H_{u_k}^{10}}^2B_{H_{t_k't_k'}^{02}}^2 +2B_{H_{u_k}^{10}}^2B_{H_{t_k'u_k'}^{02}}^2 + B_{H_{u_k}^{10}}^2B_{H_{u_k'u_k'}^{02}}^2} \\,,\\, \\sqrt{2B_{H_{t_k',u_k'}^{12,2}}^2+ B_{H_{t_k',t_k'}^{12,2}}^2+ B_{H_{u_k',u_k'}^{12,2}}^2}\\right\\}  \n",
    "       \\\\& \\: \\: + \\sqrt{\n",
    "          \\begin{aligned}\n",
    "   &(d^2-3d+2)B_{H_{u_k}^{10}}^2\\left(B_{H_{t_k}^{10}}^4+2B_{H_{t_k}^{10}}^2B_{H_{u_k}^{10}}^2+ B_{H_{u_k}^{10}}^4 \\right) \\\\\n",
    "   & \\: \\: +2(d-1)\\left( B_{H_{u_kt_k'}^{11}}^2B_{H_{t_k}^{10}}^2 + B_{H_{u_kt_k'}^{11}}^2B_{H_{u_k}^{10}}^2 + B_{H_{u_ku_k'}^{11}}^2B_{H_{t_k}^{10}}^2+ B_{H_{u_ku_k'}^{11}}^2B_{H_{u_k}^{10}}^2\\right) \n",
    "   \\end{aligned}\n",
    "       }\n",
    "   \\end{aligned}\\right)\\,.$$"
   ]
  },
  {
   "cell_type": "markdown",
   "id": "5f7e45d4-51fa-4f97-8459-657296d30778",
   "metadata": {},
   "source": [
    "We first determine the bound on $ \\|M_{t_k}\\|_2$."
   ]
  },
  {
   "cell_type": "code",
   "execution_count": 62,
   "id": "21bc1337-8f89-46ff-bba9-ec495c4720ef",
   "metadata": {},
   "outputs": [
    {
     "data": {
      "image/png": "[encoded data removed]",
      "text/latex": [
       "$\\displaystyle \\left(28.4856477034652 \\sqrt{0.15500784212682 d^{2} + 0.84499215787318 d - 1} + 85.1737479863394\\right) e^{- \\frac{\\Delta^{2}}{4}}$"
      ],
      "text/plain": [
       "                                                                           ↪\n",
       "                                                                           ↪\n",
       "⎛                    ______________________________________________        ↪\n",
       "⎜                   ╱                   2                                  ↪\n",
       "⎝28.4856477034652⋅╲╱  0.15500784212682⋅d  + 0.84499215787318⋅d - 1  + 85.1 ↪\n",
       "\n",
       "↪                  2 \n",
       "↪                -Δ  \n",
       "↪             ⎞  ────\n",
       "↪             ⎟   4  \n",
       "↪ 737479863394⎠⋅ℯ    "
      ]
     },
     "execution_count": 62,
     "metadata": {},
     "output_type": "execute_result"
    }
   ],
   "source": [
    "max_diag_coeff=max(sqrt(B_H_10_t**2*B_H_02_tt**2 + 2*B_H_10_t**2*B_H_02_tu**2 +B_H_10_t**2*B_H_02_uu**2), \n",
    "                   sqrt(2*B_H_12_1_tu**2 + B_H_12_1_tt**2 + B_H_12_1_uu**2))\n",
    "bound_sympy=exp(-Delta**2/4)*(max_diag_coeff\n",
    "                              + sqrt(                                \n",
    "                                  (d**2-3*d+2)*B_H_10_t**2*(B_H_10_t**4+2*B_H_10_t**2*B_H_10_u**2+B_H_10_u**4) \n",
    "                                  + 2*(d-1)*(B_H_11_tt**2*B_H_10_t**2+ B_H_11_tt**2*B_H_10_u**2 +B_H_11_tu**2*B_H_10_t**2+B_H_11_tu**2*B_H_10_u**2)\n",
    "                              ))\n",
    "bound_sympy"
   ]
  },
  {
   "cell_type": "markdown",
   "id": "6b4e95fa-9d63-485b-bb1b-09d618d420c6",
   "metadata": {},
   "source": [
    "This bound is smaller than $(11.22d+115.8)e^{-\\Delta^2/4}$ (see the calculation below)."
   ]
  },
  {
   "cell_type": "code",
   "execution_count": 63,
   "id": "359a58df-502b-4435-a42a-e3b896f9ecd9",
   "metadata": {},
   "outputs": [
    {
     "data": {
      "image/png": "[encoded data removed]",
      "text/latex": [
       "$\\displaystyle \\left[ 11.215120716104, \\  115.742188493388\\right]$"
      ],
      "text/plain": [
       "[11.215120716104, 115.742188493388]"
      ]
     },
     "execution_count": 63,
     "metadata": {},
     "output_type": "execute_result"
    }
   ],
   "source": [
    "[sqrt(0.155008)*28.4857,28.4857*0.8449922/(2* sqrt(0.155008))+85.1738]"
   ]
  },
  {
   "cell_type": "markdown",
   "id": "b808a1c0-bc17-4ea2-bded-52196e64180f",
   "metadata": {},
   "source": [
    "We then calcutate the bound on $ \\|M_{u_k}\\|_2$, which is larger."
   ]
  },
  {
   "cell_type": "code",
   "execution_count": 64,
   "id": "8c8d283d-4156-4a59-abad-ebf3a13f3a7b",
   "metadata": {},
   "outputs": [
    {
     "data": {
      "image/png": "[encoded data removed]",
      "text/latex": [
       "$\\displaystyle \\left(39.5220100402373 \\sqrt{0.425396287577118 d^{2} + 0.574603712422882 d - 1} + 153.041055498537\\right) e^{- \\frac{\\Delta^{2}}{4}}$"
      ],
      "text/plain": [
       "                                                                           ↪\n",
       "                                                                           ↪\n",
       "⎛                    ________________________________________________      ↪\n",
       "⎜                   ╱                    2                                 ↪\n",
       "⎝39.5220100402373⋅╲╱  0.425396287577118⋅d  + 0.574603712422882⋅d - 1  + 15 ↪\n",
       "\n",
       "↪                    2 \n",
       "↪                  -Δ  \n",
       "↪               ⎞  ────\n",
       "↪               ⎟   4  \n",
       "↪ 3.041055498537⎠⋅ℯ    "
      ]
     },
     "execution_count": 64,
     "metadata": {},
     "output_type": "execute_result"
    }
   ],
   "source": [
    "max_diag_coeff=max(sqrt(B_H_10_u**2*B_H_02_tt**2 + 2*B_H_10_u**2*B_H_02_tu**2 +B_H_10_u**2*B_H_02_uu**2), \n",
    "                   sqrt(2*B_H_12_2_tu**2 + B_H_12_2_tt**2 + B_H_12_2_uu**2))\n",
    "bound_sympy=exp(-Delta**2/4)*(max_diag_coeff\n",
    "                              + sqrt(                                \n",
    "                                  (d**2-3*d+2)*B_H_10_u**2*(B_H_10_t**4+2*B_H_10_t**2*B_H_10_u**2+B_H_10_u**4) \n",
    "                                  + 2*(d-1)*(B_H_11_ut**2*B_H_10_t**2+ B_H_11_ut**2*B_H_10_u**2 +B_H_11_uu**2*B_H_10_t**2+B_H_11_uu**2*B_H_10_u**2)\n",
    "                              ))\n",
    "bound_sympy"
   ]
  },
  {
   "cell_type": "markdown",
   "id": "b908ac76-3c10-4456-a92e-bfa7b7ce0473",
   "metadata": {},
   "source": [
    "This bound is smaller than $(25.78d+170.5)e^{-\\Delta^2/4}$ (see the calculation below)."
   ]
  },
  {
   "cell_type": "code",
   "execution_count": 65,
   "id": "1b81407c-45c9-40f3-8076-403729d86af4",
   "metadata": {},
   "outputs": [
    {
     "data": {
      "image/png": "[encoded data removed]",
      "text/latex": [
       "$\\displaystyle \\left[ 25.7772880195037, \\  170.451305666423\\right]$"
      ],
      "text/plain": [
       "[25.7772880195037, 170.451305666423]"
      ]
     },
     "execution_count": 65,
     "metadata": {},
     "output_type": "execute_result"
    }
   ],
   "source": [
    "[sqrt(0.425397)*39.5221, 39.5221*0.574604/(2*sqrt(0.425397))+153.042]"
   ]
  },
  {
   "cell_type": "markdown",
   "id": "54461c87-f459-4de4-b58c-177aa66b838b",
   "metadata": {
    "jp-MarkdownHeadingCollapsed": true
   },
   "source": [
    "# VII. Choice of $r,\\Delta$ for the LPC, associated curvature constants\n",
    "\n",
    "**Content**\n",
    "\n",
    "* We provide graphical clues for the choice of $r$ in dimension $d=1$.\n",
    "* We calculate useful quantities."
   ]
  },
  {
   "cell_type": "markdown",
   "id": "c68bdd7f-b11f-4c06-9aa9-8398151fe4fb",
   "metadata": {},
   "source": [
    "## VII.1. Dimension 1\n",
    "For $0<r\\leq 0.32$, we found $\\bar \\varepsilon_0(r)=1-e^{-r^2/2}$ and \n",
    "$\\bar \\varepsilon_2(r)= -e^{-r^2/2}G(r)$ where $$\\begin{aligned}\n",
    " G(r)&= \\frac{1}{\\sqrt{2}} r^3(e^{r^2}+\\sqrt{e^{2r^2}-1})^{3/2}+\\frac{3}{\\sqrt{2}}r \\sqrt{e^{2r^2}-1}\\sqrt{e^{r^2}+\\sqrt{e^{2r^2}-1}} \\\\\n",
    " & \\quad +\\frac{1}{2}r^4 (e^{r^2}+\\sqrt{e^{2r^2}-1})^2 + 3r^2\\sqrt{e^{2r^2}-1}(e^{r^2}+\\sqrt{e^{2r^2}-1})+ \\frac{1}{2}(e^{2r^2}-1)-e^{-2r^2}  \n",
    "\\,. \\end{aligned}$$\n",
    "\n",
    "We also have  $B_0=1+ B_{00}+ B_{10}= 2+\\sqrt{2}$ and $B_2=1+ B_{02}+ B_{12}= 1+\\sqrt{14}(1+\\sqrt{2})$.\n",
    "\n",
    "We want to choose $r\\leq 0.32$ such that $\\min \\left\\{\\frac{\\bar \\varepsilon_0(r)}{B_0} \\, ,\\, \\frac{\\bar \\varepsilon_2(r)}{B_2}\\right\\}$ is maximal. Below we display $\\frac{\\bar \\varepsilon_0(r)}{B_0}$ and $\\frac{\\bar \\varepsilon_2(r)}{B_2}$, leading us to choose $r=0.3025$."
   ]
  },
  {
   "cell_type": "code",
   "execution_count": 77,
   "id": "26481f3a-e070-4aef-9665-89e565fd8540",
   "metadata": {},
   "outputs": [
    {
     "data": {
      "application/javascript": [
       "new Promise(function(resolve, reject) {\n",
       "\tvar script = document.createElement(\"script\");\n",
       "\tscript.onload = resolve;\n",
       "\tscript.onerror = reject;\n",
       "\tscript.src = \"https://www.desmos.com/api/v1.9/calculator.js?apiKey=dcb31709b452b1cf9dc26972add0fda6\";\n",
       "\tdocument.head.appendChild(script);\n",
       "}).then(() => {\n",
       "\n",
       "        element.style.height = '480px';\n",
       "        element.style.width = '100%';\n",
       "        var calculator = Desmos.GraphingCalculator(element);\n",
       "        calculator.setExpression({\"latex\": \"\\\\epsilon_0(r)=1 - e^{- \\\\frac{r^{2}}{2}}\\\\left\\\\{0<=r\\\\right\\\\}\", \"hidden\": \"True\"});calculator.setExpression({\"latex\": \"\\\\epsilon_2(r)=\\\\left(- \\\\frac{r^{4} \\\\left(\\\\sqrt{e^{2 r^{2}} - 1} + e^{r^{2}}\\\\right)^{2}}{2} - \\\\frac{\\\\sqrt{2} r^{3} \\\\left(\\\\sqrt{e^{2 r^{2}} - 1} + e^{r^{2}}\\\\right)^{\\\\frac{3}{2}}}{2} - 3 r^{2} \\\\left(\\\\sqrt{e^{2 r^{2}} - 1} + e^{r^{2}}\\\\right) \\\\sqrt{e^{2 r^{2}} - 1} - \\\\frac{3 \\\\sqrt{2} r \\\\sqrt{\\\\sqrt{e^{2 r^{2}} - 1} + e^{r^{2}}} \\\\sqrt{e^{2 r^{2}} - 1}}{2} - \\\\frac{e^{2 r^{2}}}{2} + \\\\frac{1}{2} + e^{- 2 r^{2}}\\\\right) e^{- \\\\frac{r^{2}}{2}}\\\\left\\\\{0<=r\\\\right\\\\}\", \"hidden\": \"True\"});calculator.setExpression({\"latex\": \"B_0=\\\\sqrt{2} + 2\"});calculator.setExpression({\"latex\": \"B_2=1 + \\\\sqrt{14} \\\\left(1 + \\\\sqrt{2}\\\\right)\"});calculator.setExpression({\"latex\": \"x=0.3025\", \"lineStyle\": \"DASHED\", \"color\": \"#22780f\"});calculator.setExpression({\"latex\": \"x=0.32\", \"lineStyle\": \"DASHED\", \"color\": \"#c74440\"});calculator.setExpression({\"latex\": \"\\\\frac{\\\\epsilon_0(x)}{B_0} \\\\left\\\\{x>=0\\\\right\\\\}\", \"color\": \"#388c46\"});calculator.setExpression({\"latex\": \"\\\\frac{\\\\epsilon_2(x)}{B_2} \\\\left\\\\{x>=0\\\\right\\\\}\", \"color\": \"#00561b\"});\n",
       "        \n",
       "});"
      ],
      "text/plain": [
       "<IPython.core.display.Javascript object>"
      ]
     },
     "metadata": {},
     "output_type": "display_data"
    }
   ],
   "source": [
    "from jdesmos import Desmos\n",
    "r=symbols(\"r\", real=True)\n",
    "\n",
    "B_0=2+sqrt(2)\n",
    "B_2=1+sqrt(14)*(1+sqrt(2))\n",
    "\n",
    "bar_eps_0=1-exp(-r**2/2)\n",
    "\n",
    "G=((1/sqrt(2))*r**3*(exp(r**2)+sqrt(exp(2*r**2)-1))**Rational(3,2)  \n",
    "   +(3/sqrt(2))*r*sqrt(exp(2*r**2)-1)*sqrt(exp(r**2)+sqrt(exp(2*r**2)-1))\n",
    "   +Rational(1,2)*r**4*(exp(r**2)+sqrt(exp(2*r**2)-1))**2\n",
    "   +3*r**2*sqrt(exp(2*r**2)-1)*(exp(r**2)+sqrt(exp(2*r**2)-1))\n",
    "   +Rational(1,2)*(exp(2*r**2)-1)-exp(-2*r**2))\n",
    "bar_eps_2=-G*exp(-r**2/2)\n",
    "\n",
    "desmos = Desmos()\n",
    "desmos.add_expression({\"latex\": \"\\\\epsilon_0(r)=\"+latex(bar_eps_0)+\"\\\\left\\\\{0<=r\\\\right\\\\}\", \"hidden\": 'True'})\n",
    "desmos.add_expression({\"latex\": \"\\\\epsilon_2(r)=\"+latex(bar_eps_2)+\"\\\\left\\\\{0<=r\\\\right\\\\}\", \"hidden\": 'True'})\n",
    "desmos.add_expression({\"latex\": \"B_0=\"+latex(B_0)})\n",
    "desmos.add_expression({\"latex\": \"B_2=\"+latex(B_2)})\n",
    "desmos.add_expression({\"latex\": \"x=0.3025\",\"lineStyle\": 'DASHED', \"color\": '#22780f'})\n",
    "desmos.add_expression({\"latex\": \"x=0.32\",\"lineStyle\": 'DASHED', \"color\": '#c74440'})\n",
    "desmos.add_expression({\"latex\": \"\\\\frac{\\\\epsilon_0(x)}{B_0} \\\\left\\\\{x>=0\\\\right\\\\}\", \"color\": '#388c46'})\n",
    "desmos.add_expression({\"latex\": \"\\\\frac{\\\\epsilon_2(x)}{B_2} \\\\left\\\\{x>=0\\\\right\\\\}\", \"color\": '#00561b'})\n",
    "\n",
    "desmos.display()"
   ]
  },
  {
   "cell_type": "markdown",
   "id": "349facda-41cb-4f3e-9a8a-08b5a14e31fb",
   "metadata": {},
   "source": [
    "We provide possible choices for $\\bar\\varepsilon_0(0.3025)$, $\\bar\\varepsilon_2(0.3025)$ (these choices can be smaller than the quantities determined with the above expressions) along with $c_{0.3025}\\leq \\frac{1}{64}\\min\\left(\\frac{\\bar\\varepsilon_0(0.3025)}{B_0},\\frac{\\bar\\varepsilon_2(0.3025)}{B_2}\\right)$ and $c_\\Delta\\geq \\ln\\left( \\frac{\\sqrt{2}153.05}{c_{0.3025}}\\right)$."
   ]
  },
  {
   "cell_type": "code",
   "execution_count": 68,
   "id": "90d50067-2168-4714-897e-3ddc9b865c8a",
   "metadata": {},
   "outputs": [
    {
     "data": {
      "image/png": "[encoded data removed]",
      "text/latex": [
       "$\\displaystyle \\left[ 0.0447222327188763, \\  0.13139272697868\\right]$"
      ],
      "text/plain": [
       "[0.0447222327188763, 0.13139272697868]"
      ]
     },
     "execution_count": 68,
     "metadata": {},
     "output_type": "execute_result"
    }
   ],
   "source": [
    "[bar_eps_0.evalf(subs={r:0.3025}),bar_eps_2.evalf(subs={r:0.3025})]"
   ]
  },
  {
   "cell_type": "code",
   "execution_count": 69,
   "id": "e7038f74-34e4-449e-9c20-f47f1ed1c0d9",
   "metadata": {},
   "outputs": [
    {
     "data": {
      "image/png": "[encoded data removed]",
      "text/latex": [
       "$\\displaystyle 0.000204618360334955$"
      ],
      "text/plain": [
       "0.000204618360334955"
      ]
     },
     "execution_count": 69,
     "metadata": {},
     "output_type": "execute_result"
    }
   ],
   "source": [
    "Rational(1,64)*min(0.04472/B_0, 0.13139/B_2).evalf()"
   ]
  },
  {
   "cell_type": "code",
   "execution_count": 70,
   "id": "b6c9f04c-bc58-4338-a4ef-42735862fea0",
   "metadata": {},
   "outputs": [
    {
     "data": {
      "image/png": "[encoded data removed]",
      "text/latex": [
       "$\\displaystyle 13.8717039874483$"
      ],
      "text/plain": [
       "13.8717039874483"
      ]
     },
     "execution_count": 70,
     "metadata": {},
     "output_type": "execute_result"
    }
   ],
   "source": [
    "ln(sqrt(2)*153.05/0.000204618).evalf()"
   ]
  },
  {
   "cell_type": "markdown",
   "id": "f66135a9-574f-4fd0-8785-3f6acdd3ec7f",
   "metadata": {},
   "source": [
    "## VII.2. Dimension $d\\geq 1$"
   ]
  },
  {
   "cell_type": "markdown",
   "id": "24f22f8f-dc61-4a85-bdbe-bc2c29ae3084",
   "metadata": {},
   "source": [
    "Let $r=\\frac{0.3025}{\\sqrt{d}}$. We show that we can take $\\bar\\varepsilon_0(r)=\\frac{0.0894}{2d} \\leq 0.977 \\frac{0.3025^2}{2d}$. \n",
    "Denoting $$\\square_c: r\\in \\mathbb{R}^+ \\mapsto 1-e^{-r^2/2}- c \\frac{r^2}{2}\\,,$$ we have $\\square_{0.977}(0.3025)\\geq 0$. Moreover, $0.0894\\leq 0.977 \\times 0.3025^2$."
   ]
  },
  {
   "cell_type": "code",
   "execution_count": 71,
   "id": "32c17d60-7fbb-4b26-9c31-43399a2b696c",
   "metadata": {},
   "outputs": [
    {
     "data": {
      "image/png": "[encoded data removed]",
      "text/latex": [
       "$\\displaystyle 2.14295938763195 \\cdot 10^{-5}$"
      ],
      "text/plain": [
       "2.14295938763195e-5"
      ]
     },
     "execution_count": 71,
     "metadata": {},
     "output_type": "execute_result"
    }
   ],
   "source": [
    "1-exp(-0.3025**2/2)- 0.977*0.3025**2/2"
   ]
  },
  {
   "cell_type": "code",
   "execution_count": 72,
   "id": "932f9724-237d-4dcf-9737-cdda35d4dd2c",
   "metadata": {},
   "outputs": [
    {
     "data": {
      "image/png": "[encoded data removed]",
      "text/latex": [
       "$\\displaystyle 0.08940160625$"
      ],
      "text/plain": [
       "0.08940160625"
      ]
     },
     "execution_count": 72,
     "metadata": {},
     "output_type": "execute_result"
    }
   ],
   "source": [
    "0.3025**2*0.977"
   ]
  },
  {
   "cell_type": "markdown",
   "id": "7fff6567-93f6-4cb7-8eef-0f4a1abea52d",
   "metadata": {},
   "source": [
    "We show that $$\\frac{\\bar \\varepsilon_0(0.3025)}{1+B_{00}+B_{10}} \\leq \\frac{\\bar \\varepsilon_2(0.3025)}{1+B_{02}+B_{12}} \\iff \\frac{0.13139}{0.0894}(4d+(2d)^{3/2})\\geq 1+(1+\\sqrt{2d})\\sqrt{4d^2+10d}$$\n",
    "as $\\bar \\varepsilon_0(0.3025)=\\frac{0.0894}{2d}$, $\\bar \\varepsilon_2(0.3025)=0.13139$, $B_{00}=1$, $B_{10}=\\sqrt{2d}$, $B_{02}=\\sqrt{4d^2+10d}$, $B_{12}=\\sqrt{2d}\\sqrt{4d^2+10d}$.\n",
    "\n",
    "First we show that this is true for $d=1$."
   ]
  },
  {
   "cell_type": "code",
   "execution_count": 73,
   "id": "86adcbd1-1f29-4482-8764-f495f9e17d0d",
   "metadata": {},
   "outputs": [
    {
     "data": {
      "image/png": "[encoded data removed]",
      "text/latex": [
       "$\\displaystyle \\left[ 10.0356492161119, \\  11.0331600089031\\right]$"
      ],
      "text/plain": [
       "[10.0356492161119, 11.0331600089031]"
      ]
     },
     "execution_count": 73,
     "metadata": {},
     "output_type": "execute_result"
    }
   ],
   "source": [
    "[0.13139/0.0894*(4+2*sqrt(2)).evalf(),1+(1+(sqrt(2)+1)*sqrt(14)).evalf()]"
   ]
  },
  {
   "cell_type": "markdown",
   "id": "06983b1c-a002-4762-b960-b48ffdc72fff",
   "metadata": {},
   "source": [
    "Then we show that this is true for $d\\geq 2$. \n",
    "\n",
    "We use that $$4d^2+10d= 4(d^2+\\frac{5}{2}d)\\leq 4\\left(d+\\frac{5}{4}\\right)^2\\,,$$\n",
    "along with (as $d\\geq 2$) $$\\frac{5}{\\sqrt{2}}\\sqrt{d}\\leq \\frac{5}{2}d$$ and $$1+\\frac{5}{2}\\leq \\left(1+\\frac{5}{2}\\right)\\frac{(2d)^{3/2}}{8}\\,.$$\n",
    "It comes that\n",
    "\n",
    "$$\n",
    "\\begin{aligned}\n",
    "1+(\\sqrt{2d}+1)\\sqrt{4d^2+10d}&\\leq 1+2(\\sqrt{2d}+1)\\left(d+\\frac{5}{4}\\right)\\,, \\\\\n",
    "&= 1+\\frac{5}{2}+ (2d)^{3/2}+2d+\\frac{5}{\\sqrt{2}}\\sqrt{d}\\,, \\\\\n",
    "&\\leq \\left(\\frac{1+\\frac{5}{2}}{8}+1\\right)(2d)^{3/2}+ \\left(2+\\frac{5}{2}\\right)d\\,.\n",
    "\\end{aligned}\n",
    "$$\n",
    "\n",
    "It suffices to show that $\\left(\\frac{1+\\frac{5}{2}}{8}+1\\right)\\leq \\frac{0.13139}{0.0894}$ and that $\\left(2+\\frac{5}{2}\\right)\\leq 4\\frac{0.13139}{0.0894}$. We prove it below."
   ]
  },
  {
   "cell_type": "code",
   "execution_count": 74,
   "id": "c9d12123-5ebc-404b-b34d-0dc75c55cc34",
   "metadata": {},
   "outputs": [
    {
     "data": {
      "image/png": "[encoded data removed]",
      "text/latex": [
       "$\\displaystyle \\left[ 0.0321868008948547, \\  1.37874720357942\\right]$"
      ],
      "text/plain": [
       "[0.0321868008948547, 1.37874720357942]"
      ]
     },
     "execution_count": 74,
     "metadata": {},
     "output_type": "execute_result"
    }
   ],
   "source": [
    "[0.13139/0.0894-((1+Rational(5/2))/8+1).evalf(), 4*0.13139/0.0894-(2+Rational(5/2)).evalf()]"
   ]
  },
  {
   "cell_type": "markdown",
   "id": "67729c3b-25d5-4711-ba32-260b4ed431fa",
   "metadata": {},
   "source": [
    "We show that\n",
    "\n",
    "$$\\ln\\left( \\frac{64}{0.0894 }\\right)+ \\ln\\left((170.5+ 25.78d)2d(2+\\sqrt{2d})\\sqrt{2d}\\right)\\leq 11.9+ 3\\ln(6.62+d)\\,.$$\n",
    "In fact, as $\\sqrt{2}+\\sqrt{d}\\leq \\sqrt{1+2\\sqrt{2}}\\sqrt{d+\\frac{2}{1+2\\sqrt{2}}}$ and $\\frac{2}{1+2\\sqrt{2}}\\leq \\frac{170.5}{25.78}$,\n",
    "$$\n",
    "\\begin{aligned}\n",
    "\\ln\\left( \\frac{64}{0.0894 }\\right)+ \\ln\\left((170.5+ 25.78d)2d(2+\\sqrt{2d})\\sqrt{2d}\\right)&\\leq \\ln\\left( \\frac{64}{0.0894 }\\right)+ \\ln(25.78\\times 4)+ \\ln\\left(\\left(\\frac{170.5}{25.78}+ d\\right)d^{3/2}(\\sqrt{2}+\\sqrt{d})\\right)\\,, \\\\\n",
    "&\\leq \\ln\\left( \\frac{64}{0.0894 }\\right)+ \\ln(25.78\\times 4)+ \\ln\\left(\\sqrt{1+2\\sqrt{2}}\\right)+ \\ln\\left(\\left(\\frac{170.5}{25.78}+ d\\right)d^{3/2}\\sqrt{d+\\frac{2}{1+2\\sqrt{2}}}\\right)\\,,\\\\\n",
    "&\\leq \\ln\\left( \\frac{64}{0.0894 }\\right)+ \\ln(25.78\\times 4)+\\ln\\left(\\sqrt{1+2\\sqrt{2}}\\right)+ 3\\ln\\left(\\frac{170.5}{25.78}+ d\\right)\\,,\\\\\n",
    "&\\leq 11.9+3\\ln(6.62+d) \\,.\n",
    "\\end{aligned}\n",
    "$$"
   ]
  },
  {
   "cell_type": "code",
   "execution_count": 75,
   "id": "d22d8c02-7932-449d-8ecc-f59d0cb3ea5f",
   "metadata": {},
   "outputs": [
    {
     "data": {
      "image/png": "[encoded data removed]",
      "text/latex": [
       "$\\displaystyle \\left[ 0.522407749927483, \\  6.61365399534523\\right]$"
      ],
      "text/plain": [
       "[0.522407749927483, 6.613653995345229]"
      ]
     },
     "execution_count": 75,
     "metadata": {},
     "output_type": "execute_result"
    }
   ],
   "source": [
    "[2/(1+2*sqrt(2)).evalf(),170.5/25.78]"
   ]
  },
  {
   "cell_type": "code",
   "execution_count": 76,
   "id": "deb87375-8e58-47ce-a196-ebef6aa4d371",
   "metadata": {},
   "outputs": [
    {
     "data": {
      "image/png": "[encoded data removed]",
      "text/latex": [
       "$\\displaystyle 11.88063806202$"
      ],
      "text/plain": [
       "11.8806380620200"
      ]
     },
     "execution_count": 76,
     "metadata": {},
     "output_type": "execute_result"
    }
   ],
   "source": [
    "(ln(64/0.0894)+ln(25.78*4)+ln(sqrt(1+2*sqrt(2)))).evalf()"
   ]
  },
  {
   "cell_type": "markdown",
   "id": "5b4ca849-5d81-4684-9022-ba4755750bcc",
   "metadata": {},
   "source": [
    "## VII.3. Calculation of $\\varepsilon_0, \\varepsilon_2, \\tilde \\varepsilon_0, \\tilde \\varepsilon_2$  "
   ]
  },
  {
   "cell_type": "markdown",
   "id": "9ee763c6-7691-47fd-9999-735903a36928",
   "metadata": {},
   "source": [
    "Let $r=\\frac{0.3025}{\\sqrt{d}}$. We show that we can take $(\\varepsilon_0,\\varepsilon_2)=\\left(\\frac{0.03911}{d}, 0.06158\\right)$, $(\\tilde \\varepsilon_0,\\tilde \\varepsilon_2)=\\left(\\frac{0.03911}{d},\\frac{\\sqrt{4d^2+10d}}{2}+0.004106\\right)$. \n",
    "\n",
    "Recall that we set $\\bar\\varepsilon_2(r)=0.13139$, $\\bar\\varepsilon_0(r)=\\frac{0.0894}{2d}$, $B_{02}=\\sqrt{4d^2+10d}$. \n",
    "According to the definition of the non-degenerate certificates, and to our result linking the LPC with the existence of non-degenerate certificates, we can then choose $0<\\varepsilon_0=\\tilde \\varepsilon_0 \\leq \\frac{7}{8}\\bar\\varepsilon_0(r)$, $0<\\varepsilon_2 \\leq \\frac{15}{32}\\bar\\varepsilon_2(r)$, and $\\tilde \\varepsilon_2 \\geq \\frac{B_{02}}{2}+\\frac{\\bar\\varepsilon_2(r)}{32}$."
   ]
  },
  {
   "cell_type": "code",
   "execution_count": 84,
   "id": "89955dbb-4126-4df1-af04-b3fa12bb6952",
   "metadata": {},
   "outputs": [
    {
     "data": {
      "image/png": "[encoded data removed]",
      "text/latex": [
       "$\\displaystyle \\frac{0.0391125}{d}$"
      ],
      "text/plain": [
       "0.0391125\n",
       "─────────\n",
       "    d    "
      ]
     },
     "execution_count": 84,
     "metadata": {},
     "output_type": "execute_result"
    }
   ],
   "source": [
    "d=symbols(\"d\", real=True)\n",
    "\n",
    "7/8*0.0894/(2*d)"
   ]
  },
  {
   "cell_type": "code",
   "execution_count": 85,
   "id": "3f1e322c-14c0-47d4-a81f-3d83f7f332ab",
   "metadata": {},
   "outputs": [
    {
     "data": {
      "image/png": "[encoded data removed]",
      "text/latex": [
       "$\\displaystyle 0.0615890625$"
      ],
      "text/plain": [
       "0.0615890625"
      ]
     },
     "execution_count": 85,
     "metadata": {},
     "output_type": "execute_result"
    }
   ],
   "source": [
    "15/32*0.13139"
   ]
  },
  {
   "cell_type": "code",
   "execution_count": 86,
   "id": "d461865b-4366-4a4a-8c64-2270e9720057",
   "metadata": {},
   "outputs": [
    {
     "data": {
      "image/png": "[encoded data removed]",
      "text/latex": [
       "$\\displaystyle 0.0041059375$"
      ],
      "text/plain": [
       "0.0041059375"
      ]
     },
     "execution_count": 86,
     "metadata": {},
     "output_type": "execute_result"
    }
   ],
   "source": [
    "0.13139/32"
   ]
  }
 ],
 "metadata": {
  "kernelspec": {
   "display_name": "Python 3 (ipykernel)",
   "language": "python",
   "name": "python3"
  },
  "language_info": {
   "codemirror_mode": {
    "name": "ipython",
    "version": 3
   },
   "file_extension": ".py",
   "mimetype": "text/x-python",
   "name": "python",
   "nbconvert_exporter": "python",
   "pygments_lexer": "ipython3",
   "version": "3.10.13"
  }
 },
 "nbformat": 4,
 "nbformat_minor": 5
}
